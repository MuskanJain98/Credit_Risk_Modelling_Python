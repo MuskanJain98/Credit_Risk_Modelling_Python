{
 "cells": [
  {
   "cell_type": "markdown",
   "id": "fd519583",
   "metadata": {},
   "source": [
    "# Pre-Processing the data"
   ]
  },
  {
   "cell_type": "code",
   "execution_count": 1,
   "id": "986f3797",
   "metadata": {},
   "outputs": [],
   "source": [
    "import pandas as pd\n",
    "import numpy as np\n",
    "import os\n",
    "os.chdir(\"C:/Users/Muskan/Downloads/Loan_data_2007_2014\")"
   ]
  },
  {
   "cell_type": "markdown",
   "id": "8f247401",
   "metadata": {},
   "source": [
    "#### Import Data"
   ]
  },
  {
   "cell_type": "code",
   "execution_count": 2,
   "id": "00197149",
   "metadata": {},
   "outputs": [],
   "source": [
    "#detailed description of each column \n",
    "#https://www.kaggle.com/jonchan2003/lending-club-data-dictionary"
   ]
  },
  {
   "cell_type": "code",
   "execution_count": 3,
   "id": "22c0af63",
   "metadata": {},
   "outputs": [
    {
     "name": "stderr",
     "output_type": "stream",
     "text": [
      "C:\\Users\\Muskan\\Anaconda3\\lib\\site-packages\\IPython\\core\\interactiveshell.py:3165: DtypeWarning: Columns (20) have mixed types.Specify dtype option on import or set low_memory=False.\n",
      "  has_raised = await self.run_ast_nodes(code_ast.body, cell_name,\n"
     ]
    }
   ],
   "source": [
    "loan_data_backup=pd.read_csv(\"C:/Users/Muskan/Downloads/Loan_data_2007_2014/3.1 loan_data_2007_2014.csv\")"
   ]
  },
  {
   "cell_type": "code",
   "execution_count": 4,
   "id": "e0aa742f",
   "metadata": {},
   "outputs": [],
   "source": [
    "#saving one backup  of the file in case it is needed again\n",
    "loan_data=loan_data_backup.copy()"
   ]
  },
  {
   "cell_type": "code",
   "execution_count": 5,
   "id": "7b52cbcb",
   "metadata": {},
   "outputs": [
    {
     "data": {
      "text/html": [
       "<div>\n",
       "<style scoped>\n",
       "    .dataframe tbody tr th:only-of-type {\n",
       "        vertical-align: middle;\n",
       "    }\n",
       "\n",
       "    .dataframe tbody tr th {\n",
       "        vertical-align: top;\n",
       "    }\n",
       "\n",
       "    .dataframe thead th {\n",
       "        text-align: right;\n",
       "    }\n",
       "</style>\n",
       "<table border=\"1\" class=\"dataframe\">\n",
       "  <thead>\n",
       "    <tr style=\"text-align: right;\">\n",
       "      <th></th>\n",
       "      <th>Unnamed: 0</th>\n",
       "      <th>id</th>\n",
       "      <th>member_id</th>\n",
       "      <th>loan_amnt</th>\n",
       "      <th>funded_amnt</th>\n",
       "      <th>funded_amnt_inv</th>\n",
       "      <th>term</th>\n",
       "      <th>int_rate</th>\n",
       "      <th>installment</th>\n",
       "      <th>grade</th>\n",
       "      <th>...</th>\n",
       "      <th>total_bal_il</th>\n",
       "      <th>il_util</th>\n",
       "      <th>open_rv_12m</th>\n",
       "      <th>open_rv_24m</th>\n",
       "      <th>max_bal_bc</th>\n",
       "      <th>all_util</th>\n",
       "      <th>total_rev_hi_lim</th>\n",
       "      <th>inq_fi</th>\n",
       "      <th>total_cu_tl</th>\n",
       "      <th>inq_last_12m</th>\n",
       "    </tr>\n",
       "  </thead>\n",
       "  <tbody>\n",
       "    <tr>\n",
       "      <th>0</th>\n",
       "      <td>0</td>\n",
       "      <td>1077501</td>\n",
       "      <td>1296599</td>\n",
       "      <td>5000</td>\n",
       "      <td>5000</td>\n",
       "      <td>4975.0</td>\n",
       "      <td>36 months</td>\n",
       "      <td>10.65</td>\n",
       "      <td>162.87</td>\n",
       "      <td>B</td>\n",
       "      <td>...</td>\n",
       "      <td>NaN</td>\n",
       "      <td>NaN</td>\n",
       "      <td>NaN</td>\n",
       "      <td>NaN</td>\n",
       "      <td>NaN</td>\n",
       "      <td>NaN</td>\n",
       "      <td>NaN</td>\n",
       "      <td>NaN</td>\n",
       "      <td>NaN</td>\n",
       "      <td>NaN</td>\n",
       "    </tr>\n",
       "    <tr>\n",
       "      <th>1</th>\n",
       "      <td>1</td>\n",
       "      <td>1077430</td>\n",
       "      <td>1314167</td>\n",
       "      <td>2500</td>\n",
       "      <td>2500</td>\n",
       "      <td>2500.0</td>\n",
       "      <td>60 months</td>\n",
       "      <td>15.27</td>\n",
       "      <td>59.83</td>\n",
       "      <td>C</td>\n",
       "      <td>...</td>\n",
       "      <td>NaN</td>\n",
       "      <td>NaN</td>\n",
       "      <td>NaN</td>\n",
       "      <td>NaN</td>\n",
       "      <td>NaN</td>\n",
       "      <td>NaN</td>\n",
       "      <td>NaN</td>\n",
       "      <td>NaN</td>\n",
       "      <td>NaN</td>\n",
       "      <td>NaN</td>\n",
       "    </tr>\n",
       "    <tr>\n",
       "      <th>2</th>\n",
       "      <td>2</td>\n",
       "      <td>1077175</td>\n",
       "      <td>1313524</td>\n",
       "      <td>2400</td>\n",
       "      <td>2400</td>\n",
       "      <td>2400.0</td>\n",
       "      <td>36 months</td>\n",
       "      <td>15.96</td>\n",
       "      <td>84.33</td>\n",
       "      <td>C</td>\n",
       "      <td>...</td>\n",
       "      <td>NaN</td>\n",
       "      <td>NaN</td>\n",
       "      <td>NaN</td>\n",
       "      <td>NaN</td>\n",
       "      <td>NaN</td>\n",
       "      <td>NaN</td>\n",
       "      <td>NaN</td>\n",
       "      <td>NaN</td>\n",
       "      <td>NaN</td>\n",
       "      <td>NaN</td>\n",
       "    </tr>\n",
       "    <tr>\n",
       "      <th>3</th>\n",
       "      <td>3</td>\n",
       "      <td>1076863</td>\n",
       "      <td>1277178</td>\n",
       "      <td>10000</td>\n",
       "      <td>10000</td>\n",
       "      <td>10000.0</td>\n",
       "      <td>36 months</td>\n",
       "      <td>13.49</td>\n",
       "      <td>339.31</td>\n",
       "      <td>C</td>\n",
       "      <td>...</td>\n",
       "      <td>NaN</td>\n",
       "      <td>NaN</td>\n",
       "      <td>NaN</td>\n",
       "      <td>NaN</td>\n",
       "      <td>NaN</td>\n",
       "      <td>NaN</td>\n",
       "      <td>NaN</td>\n",
       "      <td>NaN</td>\n",
       "      <td>NaN</td>\n",
       "      <td>NaN</td>\n",
       "    </tr>\n",
       "    <tr>\n",
       "      <th>4</th>\n",
       "      <td>4</td>\n",
       "      <td>1075358</td>\n",
       "      <td>1311748</td>\n",
       "      <td>3000</td>\n",
       "      <td>3000</td>\n",
       "      <td>3000.0</td>\n",
       "      <td>60 months</td>\n",
       "      <td>12.69</td>\n",
       "      <td>67.79</td>\n",
       "      <td>B</td>\n",
       "      <td>...</td>\n",
       "      <td>NaN</td>\n",
       "      <td>NaN</td>\n",
       "      <td>NaN</td>\n",
       "      <td>NaN</td>\n",
       "      <td>NaN</td>\n",
       "      <td>NaN</td>\n",
       "      <td>NaN</td>\n",
       "      <td>NaN</td>\n",
       "      <td>NaN</td>\n",
       "      <td>NaN</td>\n",
       "    </tr>\n",
       "    <tr>\n",
       "      <th>...</th>\n",
       "      <td>...</td>\n",
       "      <td>...</td>\n",
       "      <td>...</td>\n",
       "      <td>...</td>\n",
       "      <td>...</td>\n",
       "      <td>...</td>\n",
       "      <td>...</td>\n",
       "      <td>...</td>\n",
       "      <td>...</td>\n",
       "      <td>...</td>\n",
       "      <td>...</td>\n",
       "      <td>...</td>\n",
       "      <td>...</td>\n",
       "      <td>...</td>\n",
       "      <td>...</td>\n",
       "      <td>...</td>\n",
       "      <td>...</td>\n",
       "      <td>...</td>\n",
       "      <td>...</td>\n",
       "      <td>...</td>\n",
       "      <td>...</td>\n",
       "    </tr>\n",
       "    <tr>\n",
       "      <th>466280</th>\n",
       "      <td>466280</td>\n",
       "      <td>8598660</td>\n",
       "      <td>1440975</td>\n",
       "      <td>18400</td>\n",
       "      <td>18400</td>\n",
       "      <td>18400.0</td>\n",
       "      <td>60 months</td>\n",
       "      <td>14.47</td>\n",
       "      <td>432.64</td>\n",
       "      <td>C</td>\n",
       "      <td>...</td>\n",
       "      <td>NaN</td>\n",
       "      <td>NaN</td>\n",
       "      <td>NaN</td>\n",
       "      <td>NaN</td>\n",
       "      <td>NaN</td>\n",
       "      <td>NaN</td>\n",
       "      <td>29900.0</td>\n",
       "      <td>NaN</td>\n",
       "      <td>NaN</td>\n",
       "      <td>NaN</td>\n",
       "    </tr>\n",
       "    <tr>\n",
       "      <th>466281</th>\n",
       "      <td>466281</td>\n",
       "      <td>9684700</td>\n",
       "      <td>11536848</td>\n",
       "      <td>22000</td>\n",
       "      <td>22000</td>\n",
       "      <td>22000.0</td>\n",
       "      <td>60 months</td>\n",
       "      <td>19.97</td>\n",
       "      <td>582.50</td>\n",
       "      <td>D</td>\n",
       "      <td>...</td>\n",
       "      <td>NaN</td>\n",
       "      <td>NaN</td>\n",
       "      <td>NaN</td>\n",
       "      <td>NaN</td>\n",
       "      <td>NaN</td>\n",
       "      <td>NaN</td>\n",
       "      <td>39400.0</td>\n",
       "      <td>NaN</td>\n",
       "      <td>NaN</td>\n",
       "      <td>NaN</td>\n",
       "    </tr>\n",
       "    <tr>\n",
       "      <th>466282</th>\n",
       "      <td>466282</td>\n",
       "      <td>9584776</td>\n",
       "      <td>11436914</td>\n",
       "      <td>20700</td>\n",
       "      <td>20700</td>\n",
       "      <td>20700.0</td>\n",
       "      <td>60 months</td>\n",
       "      <td>16.99</td>\n",
       "      <td>514.34</td>\n",
       "      <td>D</td>\n",
       "      <td>...</td>\n",
       "      <td>NaN</td>\n",
       "      <td>NaN</td>\n",
       "      <td>NaN</td>\n",
       "      <td>NaN</td>\n",
       "      <td>NaN</td>\n",
       "      <td>NaN</td>\n",
       "      <td>13100.0</td>\n",
       "      <td>NaN</td>\n",
       "      <td>NaN</td>\n",
       "      <td>NaN</td>\n",
       "    </tr>\n",
       "    <tr>\n",
       "      <th>466283</th>\n",
       "      <td>466283</td>\n",
       "      <td>9604874</td>\n",
       "      <td>11457002</td>\n",
       "      <td>2000</td>\n",
       "      <td>2000</td>\n",
       "      <td>2000.0</td>\n",
       "      <td>36 months</td>\n",
       "      <td>7.90</td>\n",
       "      <td>62.59</td>\n",
       "      <td>A</td>\n",
       "      <td>...</td>\n",
       "      <td>NaN</td>\n",
       "      <td>NaN</td>\n",
       "      <td>NaN</td>\n",
       "      <td>NaN</td>\n",
       "      <td>NaN</td>\n",
       "      <td>NaN</td>\n",
       "      <td>53100.0</td>\n",
       "      <td>NaN</td>\n",
       "      <td>NaN</td>\n",
       "      <td>NaN</td>\n",
       "    </tr>\n",
       "    <tr>\n",
       "      <th>466284</th>\n",
       "      <td>466284</td>\n",
       "      <td>9199665</td>\n",
       "      <td>11061576</td>\n",
       "      <td>10000</td>\n",
       "      <td>10000</td>\n",
       "      <td>9975.0</td>\n",
       "      <td>36 months</td>\n",
       "      <td>19.20</td>\n",
       "      <td>367.58</td>\n",
       "      <td>D</td>\n",
       "      <td>...</td>\n",
       "      <td>NaN</td>\n",
       "      <td>NaN</td>\n",
       "      <td>NaN</td>\n",
       "      <td>NaN</td>\n",
       "      <td>NaN</td>\n",
       "      <td>NaN</td>\n",
       "      <td>16000.0</td>\n",
       "      <td>NaN</td>\n",
       "      <td>NaN</td>\n",
       "      <td>NaN</td>\n",
       "    </tr>\n",
       "  </tbody>\n",
       "</table>\n",
       "<p>466285 rows × 75 columns</p>\n",
       "</div>"
      ],
      "text/plain": [
       "        Unnamed: 0       id  member_id  loan_amnt  funded_amnt  \\\n",
       "0                0  1077501    1296599       5000         5000   \n",
       "1                1  1077430    1314167       2500         2500   \n",
       "2                2  1077175    1313524       2400         2400   \n",
       "3                3  1076863    1277178      10000        10000   \n",
       "4                4  1075358    1311748       3000         3000   \n",
       "...            ...      ...        ...        ...          ...   \n",
       "466280      466280  8598660    1440975      18400        18400   \n",
       "466281      466281  9684700   11536848      22000        22000   \n",
       "466282      466282  9584776   11436914      20700        20700   \n",
       "466283      466283  9604874   11457002       2000         2000   \n",
       "466284      466284  9199665   11061576      10000        10000   \n",
       "\n",
       "        funded_amnt_inv        term  int_rate  installment grade  ...  \\\n",
       "0                4975.0   36 months     10.65       162.87     B  ...   \n",
       "1                2500.0   60 months     15.27        59.83     C  ...   \n",
       "2                2400.0   36 months     15.96        84.33     C  ...   \n",
       "3               10000.0   36 months     13.49       339.31     C  ...   \n",
       "4                3000.0   60 months     12.69        67.79     B  ...   \n",
       "...                 ...         ...       ...          ...   ...  ...   \n",
       "466280          18400.0   60 months     14.47       432.64     C  ...   \n",
       "466281          22000.0   60 months     19.97       582.50     D  ...   \n",
       "466282          20700.0   60 months     16.99       514.34     D  ...   \n",
       "466283           2000.0   36 months      7.90        62.59     A  ...   \n",
       "466284           9975.0   36 months     19.20       367.58     D  ...   \n",
       "\n",
       "       total_bal_il il_util open_rv_12m open_rv_24m  max_bal_bc all_util  \\\n",
       "0               NaN     NaN         NaN         NaN         NaN      NaN   \n",
       "1               NaN     NaN         NaN         NaN         NaN      NaN   \n",
       "2               NaN     NaN         NaN         NaN         NaN      NaN   \n",
       "3               NaN     NaN         NaN         NaN         NaN      NaN   \n",
       "4               NaN     NaN         NaN         NaN         NaN      NaN   \n",
       "...             ...     ...         ...         ...         ...      ...   \n",
       "466280          NaN     NaN         NaN         NaN         NaN      NaN   \n",
       "466281          NaN     NaN         NaN         NaN         NaN      NaN   \n",
       "466282          NaN     NaN         NaN         NaN         NaN      NaN   \n",
       "466283          NaN     NaN         NaN         NaN         NaN      NaN   \n",
       "466284          NaN     NaN         NaN         NaN         NaN      NaN   \n",
       "\n",
       "       total_rev_hi_lim inq_fi total_cu_tl inq_last_12m  \n",
       "0                   NaN    NaN         NaN          NaN  \n",
       "1                   NaN    NaN         NaN          NaN  \n",
       "2                   NaN    NaN         NaN          NaN  \n",
       "3                   NaN    NaN         NaN          NaN  \n",
       "4                   NaN    NaN         NaN          NaN  \n",
       "...                 ...    ...         ...          ...  \n",
       "466280          29900.0    NaN         NaN          NaN  \n",
       "466281          39400.0    NaN         NaN          NaN  \n",
       "466282          13100.0    NaN         NaN          NaN  \n",
       "466283          53100.0    NaN         NaN          NaN  \n",
       "466284          16000.0    NaN         NaN          NaN  \n",
       "\n",
       "[466285 rows x 75 columns]"
      ]
     },
     "execution_count": 5,
     "metadata": {},
     "output_type": "execute_result"
    }
   ],
   "source": [
    "loan_data"
   ]
  },
  {
   "cell_type": "code",
   "execution_count": 6,
   "id": "3ba2d59e",
   "metadata": {},
   "outputs": [
    {
     "data": {
      "text/plain": [
       "array(['Unnamed: 0', 'id', 'member_id', 'loan_amnt', 'funded_amnt',\n",
       "       'funded_amnt_inv', 'term', 'int_rate', 'installment', 'grade',\n",
       "       'sub_grade', 'emp_title', 'emp_length', 'home_ownership',\n",
       "       'annual_inc', 'verification_status', 'issue_d', 'loan_status',\n",
       "       'pymnt_plan', 'url', 'desc', 'purpose', 'title', 'zip_code',\n",
       "       'addr_state', 'dti', 'delinq_2yrs', 'earliest_cr_line',\n",
       "       'inq_last_6mths', 'mths_since_last_delinq',\n",
       "       'mths_since_last_record', 'open_acc', 'pub_rec', 'revol_bal',\n",
       "       'revol_util', 'total_acc', 'initial_list_status', 'out_prncp',\n",
       "       'out_prncp_inv', 'total_pymnt', 'total_pymnt_inv',\n",
       "       'total_rec_prncp', 'total_rec_int', 'total_rec_late_fee',\n",
       "       'recoveries', 'collection_recovery_fee', 'last_pymnt_d',\n",
       "       'last_pymnt_amnt', 'next_pymnt_d', 'last_credit_pull_d',\n",
       "       'collections_12_mths_ex_med', 'mths_since_last_major_derog',\n",
       "       'policy_code', 'application_type', 'annual_inc_joint', 'dti_joint',\n",
       "       'verification_status_joint', 'acc_now_delinq', 'tot_coll_amt',\n",
       "       'tot_cur_bal', 'open_acc_6m', 'open_il_6m', 'open_il_12m',\n",
       "       'open_il_24m', 'mths_since_rcnt_il', 'total_bal_il', 'il_util',\n",
       "       'open_rv_12m', 'open_rv_24m', 'max_bal_bc', 'all_util',\n",
       "       'total_rev_hi_lim', 'inq_fi', 'total_cu_tl', 'inq_last_12m'],\n",
       "      dtype=object)"
      ]
     },
     "execution_count": 6,
     "metadata": {},
     "output_type": "execute_result"
    }
   ],
   "source": [
    "loan_data.columns.values"
   ]
  },
  {
   "cell_type": "code",
   "execution_count": 7,
   "id": "c00bac02",
   "metadata": {},
   "outputs": [],
   "source": [
    "#The unnmaed column is not useful therefore we can drop it\n",
    "loan_data.drop('Unnamed: 0',\n",
    "  axis='columns', inplace=True)"
   ]
  },
  {
   "cell_type": "code",
   "execution_count": 8,
   "id": "3808aa37",
   "metadata": {},
   "outputs": [
    {
     "data": {
      "text/html": [
       "<div>\n",
       "<style scoped>\n",
       "    .dataframe tbody tr th:only-of-type {\n",
       "        vertical-align: middle;\n",
       "    }\n",
       "\n",
       "    .dataframe tbody tr th {\n",
       "        vertical-align: top;\n",
       "    }\n",
       "\n",
       "    .dataframe thead th {\n",
       "        text-align: right;\n",
       "    }\n",
       "</style>\n",
       "<table border=\"1\" class=\"dataframe\">\n",
       "  <thead>\n",
       "    <tr style=\"text-align: right;\">\n",
       "      <th></th>\n",
       "      <th>id</th>\n",
       "      <th>member_id</th>\n",
       "      <th>loan_amnt</th>\n",
       "      <th>funded_amnt</th>\n",
       "      <th>funded_amnt_inv</th>\n",
       "      <th>term</th>\n",
       "      <th>int_rate</th>\n",
       "      <th>installment</th>\n",
       "      <th>grade</th>\n",
       "      <th>sub_grade</th>\n",
       "      <th>...</th>\n",
       "      <th>total_bal_il</th>\n",
       "      <th>il_util</th>\n",
       "      <th>open_rv_12m</th>\n",
       "      <th>open_rv_24m</th>\n",
       "      <th>max_bal_bc</th>\n",
       "      <th>all_util</th>\n",
       "      <th>total_rev_hi_lim</th>\n",
       "      <th>inq_fi</th>\n",
       "      <th>total_cu_tl</th>\n",
       "      <th>inq_last_12m</th>\n",
       "    </tr>\n",
       "  </thead>\n",
       "  <tbody>\n",
       "    <tr>\n",
       "      <th>466280</th>\n",
       "      <td>8598660</td>\n",
       "      <td>1440975</td>\n",
       "      <td>18400</td>\n",
       "      <td>18400</td>\n",
       "      <td>18400.0</td>\n",
       "      <td>60 months</td>\n",
       "      <td>14.47</td>\n",
       "      <td>432.64</td>\n",
       "      <td>C</td>\n",
       "      <td>C2</td>\n",
       "      <td>...</td>\n",
       "      <td>NaN</td>\n",
       "      <td>NaN</td>\n",
       "      <td>NaN</td>\n",
       "      <td>NaN</td>\n",
       "      <td>NaN</td>\n",
       "      <td>NaN</td>\n",
       "      <td>29900.0</td>\n",
       "      <td>NaN</td>\n",
       "      <td>NaN</td>\n",
       "      <td>NaN</td>\n",
       "    </tr>\n",
       "    <tr>\n",
       "      <th>466281</th>\n",
       "      <td>9684700</td>\n",
       "      <td>11536848</td>\n",
       "      <td>22000</td>\n",
       "      <td>22000</td>\n",
       "      <td>22000.0</td>\n",
       "      <td>60 months</td>\n",
       "      <td>19.97</td>\n",
       "      <td>582.50</td>\n",
       "      <td>D</td>\n",
       "      <td>D5</td>\n",
       "      <td>...</td>\n",
       "      <td>NaN</td>\n",
       "      <td>NaN</td>\n",
       "      <td>NaN</td>\n",
       "      <td>NaN</td>\n",
       "      <td>NaN</td>\n",
       "      <td>NaN</td>\n",
       "      <td>39400.0</td>\n",
       "      <td>NaN</td>\n",
       "      <td>NaN</td>\n",
       "      <td>NaN</td>\n",
       "    </tr>\n",
       "    <tr>\n",
       "      <th>466282</th>\n",
       "      <td>9584776</td>\n",
       "      <td>11436914</td>\n",
       "      <td>20700</td>\n",
       "      <td>20700</td>\n",
       "      <td>20700.0</td>\n",
       "      <td>60 months</td>\n",
       "      <td>16.99</td>\n",
       "      <td>514.34</td>\n",
       "      <td>D</td>\n",
       "      <td>D1</td>\n",
       "      <td>...</td>\n",
       "      <td>NaN</td>\n",
       "      <td>NaN</td>\n",
       "      <td>NaN</td>\n",
       "      <td>NaN</td>\n",
       "      <td>NaN</td>\n",
       "      <td>NaN</td>\n",
       "      <td>13100.0</td>\n",
       "      <td>NaN</td>\n",
       "      <td>NaN</td>\n",
       "      <td>NaN</td>\n",
       "    </tr>\n",
       "    <tr>\n",
       "      <th>466283</th>\n",
       "      <td>9604874</td>\n",
       "      <td>11457002</td>\n",
       "      <td>2000</td>\n",
       "      <td>2000</td>\n",
       "      <td>2000.0</td>\n",
       "      <td>36 months</td>\n",
       "      <td>7.90</td>\n",
       "      <td>62.59</td>\n",
       "      <td>A</td>\n",
       "      <td>A4</td>\n",
       "      <td>...</td>\n",
       "      <td>NaN</td>\n",
       "      <td>NaN</td>\n",
       "      <td>NaN</td>\n",
       "      <td>NaN</td>\n",
       "      <td>NaN</td>\n",
       "      <td>NaN</td>\n",
       "      <td>53100.0</td>\n",
       "      <td>NaN</td>\n",
       "      <td>NaN</td>\n",
       "      <td>NaN</td>\n",
       "    </tr>\n",
       "    <tr>\n",
       "      <th>466284</th>\n",
       "      <td>9199665</td>\n",
       "      <td>11061576</td>\n",
       "      <td>10000</td>\n",
       "      <td>10000</td>\n",
       "      <td>9975.0</td>\n",
       "      <td>36 months</td>\n",
       "      <td>19.20</td>\n",
       "      <td>367.58</td>\n",
       "      <td>D</td>\n",
       "      <td>D3</td>\n",
       "      <td>...</td>\n",
       "      <td>NaN</td>\n",
       "      <td>NaN</td>\n",
       "      <td>NaN</td>\n",
       "      <td>NaN</td>\n",
       "      <td>NaN</td>\n",
       "      <td>NaN</td>\n",
       "      <td>16000.0</td>\n",
       "      <td>NaN</td>\n",
       "      <td>NaN</td>\n",
       "      <td>NaN</td>\n",
       "    </tr>\n",
       "  </tbody>\n",
       "</table>\n",
       "<p>5 rows × 74 columns</p>\n",
       "</div>"
      ],
      "text/plain": [
       "             id  member_id  loan_amnt  funded_amnt  funded_amnt_inv  \\\n",
       "466280  8598660    1440975      18400        18400          18400.0   \n",
       "466281  9684700   11536848      22000        22000          22000.0   \n",
       "466282  9584776   11436914      20700        20700          20700.0   \n",
       "466283  9604874   11457002       2000         2000           2000.0   \n",
       "466284  9199665   11061576      10000        10000           9975.0   \n",
       "\n",
       "              term  int_rate  installment grade sub_grade  ... total_bal_il  \\\n",
       "466280   60 months     14.47       432.64     C        C2  ...          NaN   \n",
       "466281   60 months     19.97       582.50     D        D5  ...          NaN   \n",
       "466282   60 months     16.99       514.34     D        D1  ...          NaN   \n",
       "466283   36 months      7.90        62.59     A        A4  ...          NaN   \n",
       "466284   36 months     19.20       367.58     D        D3  ...          NaN   \n",
       "\n",
       "       il_util open_rv_12m  open_rv_24m max_bal_bc all_util total_rev_hi_lim  \\\n",
       "466280     NaN         NaN          NaN        NaN      NaN          29900.0   \n",
       "466281     NaN         NaN          NaN        NaN      NaN          39400.0   \n",
       "466282     NaN         NaN          NaN        NaN      NaN          13100.0   \n",
       "466283     NaN         NaN          NaN        NaN      NaN          53100.0   \n",
       "466284     NaN         NaN          NaN        NaN      NaN          16000.0   \n",
       "\n",
       "       inq_fi total_cu_tl inq_last_12m  \n",
       "466280    NaN         NaN          NaN  \n",
       "466281    NaN         NaN          NaN  \n",
       "466282    NaN         NaN          NaN  \n",
       "466283    NaN         NaN          NaN  \n",
       "466284    NaN         NaN          NaN  \n",
       "\n",
       "[5 rows x 74 columns]"
      ]
     },
     "execution_count": 8,
     "metadata": {},
     "output_type": "execute_result"
    }
   ],
   "source": [
    "loan_data.tail()"
   ]
  },
  {
   "cell_type": "code",
   "execution_count": 9,
   "id": "cd2044a8",
   "metadata": {},
   "outputs": [
    {
     "name": "stdout",
     "output_type": "stream",
     "text": [
      "<class 'pandas.core.frame.DataFrame'>\n",
      "RangeIndex: 466285 entries, 0 to 466284\n",
      "Data columns (total 74 columns):\n",
      " #   Column                       Non-Null Count   Dtype  \n",
      "---  ------                       --------------   -----  \n",
      " 0   id                           466285 non-null  int64  \n",
      " 1   member_id                    466285 non-null  int64  \n",
      " 2   loan_amnt                    466285 non-null  int64  \n",
      " 3   funded_amnt                  466285 non-null  int64  \n",
      " 4   funded_amnt_inv              466285 non-null  float64\n",
      " 5   term                         466285 non-null  object \n",
      " 6   int_rate                     466285 non-null  float64\n",
      " 7   installment                  466285 non-null  float64\n",
      " 8   grade                        466285 non-null  object \n",
      " 9   sub_grade                    466285 non-null  object \n",
      " 10  emp_title                    438697 non-null  object \n",
      " 11  emp_length                   445277 non-null  object \n",
      " 12  home_ownership               466285 non-null  object \n",
      " 13  annual_inc                   466281 non-null  float64\n",
      " 14  verification_status          466285 non-null  object \n",
      " 15  issue_d                      466285 non-null  object \n",
      " 16  loan_status                  466285 non-null  object \n",
      " 17  pymnt_plan                   466285 non-null  object \n",
      " 18  url                          466285 non-null  object \n",
      " 19  desc                         125983 non-null  object \n",
      " 20  purpose                      466285 non-null  object \n",
      " 21  title                        466265 non-null  object \n",
      " 22  zip_code                     466285 non-null  object \n",
      " 23  addr_state                   466285 non-null  object \n",
      " 24  dti                          466285 non-null  float64\n",
      " 25  delinq_2yrs                  466256 non-null  float64\n",
      " 26  earliest_cr_line             466256 non-null  object \n",
      " 27  inq_last_6mths               466256 non-null  float64\n",
      " 28  mths_since_last_delinq       215934 non-null  float64\n",
      " 29  mths_since_last_record       62638 non-null   float64\n",
      " 30  open_acc                     466256 non-null  float64\n",
      " 31  pub_rec                      466256 non-null  float64\n",
      " 32  revol_bal                    466285 non-null  int64  \n",
      " 33  revol_util                   465945 non-null  float64\n",
      " 34  total_acc                    466256 non-null  float64\n",
      " 35  initial_list_status          466285 non-null  object \n",
      " 36  out_prncp                    466285 non-null  float64\n",
      " 37  out_prncp_inv                466285 non-null  float64\n",
      " 38  total_pymnt                  466285 non-null  float64\n",
      " 39  total_pymnt_inv              466285 non-null  float64\n",
      " 40  total_rec_prncp              466285 non-null  float64\n",
      " 41  total_rec_int                466285 non-null  float64\n",
      " 42  total_rec_late_fee           466285 non-null  float64\n",
      " 43  recoveries                   466285 non-null  float64\n",
      " 44  collection_recovery_fee      466285 non-null  float64\n",
      " 45  last_pymnt_d                 465909 non-null  object \n",
      " 46  last_pymnt_amnt              466285 non-null  float64\n",
      " 47  next_pymnt_d                 239071 non-null  object \n",
      " 48  last_credit_pull_d           466243 non-null  object \n",
      " 49  collections_12_mths_ex_med   466140 non-null  float64\n",
      " 50  mths_since_last_major_derog  98974 non-null   float64\n",
      " 51  policy_code                  466285 non-null  int64  \n",
      " 52  application_type             466285 non-null  object \n",
      " 53  annual_inc_joint             0 non-null       float64\n",
      " 54  dti_joint                    0 non-null       float64\n",
      " 55  verification_status_joint    0 non-null       float64\n",
      " 56  acc_now_delinq               466256 non-null  float64\n",
      " 57  tot_coll_amt                 396009 non-null  float64\n",
      " 58  tot_cur_bal                  396009 non-null  float64\n",
      " 59  open_acc_6m                  0 non-null       float64\n",
      " 60  open_il_6m                   0 non-null       float64\n",
      " 61  open_il_12m                  0 non-null       float64\n",
      " 62  open_il_24m                  0 non-null       float64\n",
      " 63  mths_since_rcnt_il           0 non-null       float64\n",
      " 64  total_bal_il                 0 non-null       float64\n",
      " 65  il_util                      0 non-null       float64\n",
      " 66  open_rv_12m                  0 non-null       float64\n",
      " 67  open_rv_24m                  0 non-null       float64\n",
      " 68  max_bal_bc                   0 non-null       float64\n",
      " 69  all_util                     0 non-null       float64\n",
      " 70  total_rev_hi_lim             396009 non-null  float64\n",
      " 71  inq_fi                       0 non-null       float64\n",
      " 72  total_cu_tl                  0 non-null       float64\n",
      " 73  inq_last_12m                 0 non-null       float64\n",
      "dtypes: float64(46), int64(6), object(22)\n",
      "memory usage: 263.3+ MB\n"
     ]
    }
   ],
   "source": [
    "#Checking each column datatype\n",
    "loan_data.info()"
   ]
  },
  {
   "cell_type": "markdown",
   "id": "f01b0fe8",
   "metadata": {},
   "source": [
    "### Pre-processing continuous variables"
   ]
  },
  {
   "cell_type": "markdown",
   "id": "a5b51567",
   "metadata": {},
   "source": [
    "#### emp_length column"
   ]
  },
  {
   "cell_type": "code",
   "execution_count": 10,
   "id": "0f61b82a",
   "metadata": {},
   "outputs": [
    {
     "data": {
      "text/plain": [
       "array(['10+ years', '< 1 year', '1 year', '3 years', '8 years', '9 years',\n",
       "       '4 years', '5 years', '6 years', '2 years', '7 years', nan],\n",
       "      dtype=object)"
      ]
     },
     "execution_count": 10,
     "metadata": {},
     "output_type": "execute_result"
    }
   ],
   "source": [
    "#loan_data dtye type is object, it should be numeric\n",
    "loan_data['emp_length'].unique()"
   ]
  },
  {
   "cell_type": "code",
   "execution_count": 11,
   "id": "51327c63",
   "metadata": {},
   "outputs": [
    {
     "name": "stderr",
     "output_type": "stream",
     "text": [
      "<ipython-input-11-aa3cc464bbdc>:3: FutureWarning: The default value of regex will change from True to False in a future version.\n",
      "  loan_data['emp_length_int'] = loan_data['emp_length'].str.replace('\\+ years', '')\n"
     ]
    }
   ],
   "source": [
    "#to convert the column in numeric we have to remove string values with str.replace\n",
    "#first, replacing the '+years' with ''\n",
    "loan_data['emp_length_int'] = loan_data['emp_length'].str.replace('\\+ years', '')\n",
    "#first, replacing the '<1' with 0 (years)\n",
    "loan_data['emp_length_int'] = loan_data['emp_length_int'].str.replace('< 1 year', str(0))\n",
    "#replacing nan values '+years' with 0 (years)\n",
    "loan_data['emp_length_int'] = loan_data['emp_length_int'].str.replace('n/a',  str(0))\n",
    "# replacing the years/year with ''\n",
    "loan_data['emp_length_int'] = loan_data['emp_length_int'].str.replace(' years', '')\n",
    "loan_data['emp_length_int'] = loan_data['emp_length_int'].str.replace(' year', '')"
   ]
  },
  {
   "cell_type": "code",
   "execution_count": 12,
   "id": "a7e8684e",
   "metadata": {},
   "outputs": [
    {
     "data": {
      "text/plain": [
       "str"
      ]
     },
     "execution_count": 12,
     "metadata": {},
     "output_type": "execute_result"
    }
   ],
   "source": [
    "#the symbols and words are removed byt datatype is still string\n",
    "type(loan_data['emp_length_int'][0])"
   ]
  },
  {
   "cell_type": "code",
   "execution_count": 13,
   "id": "a43d8571",
   "metadata": {},
   "outputs": [],
   "source": [
    "#pd.numeric casts a pandas series to numeric dtype\n",
    "loan_data['emp_length_int'] = pd.to_numeric(loan_data['emp_length_int'])"
   ]
  },
  {
   "cell_type": "code",
   "execution_count": 14,
   "id": "0bd2e186",
   "metadata": {},
   "outputs": [
    {
     "data": {
      "text/plain": [
       "numpy.float64"
      ]
     },
     "execution_count": 14,
     "metadata": {},
     "output_type": "execute_result"
    }
   ],
   "source": [
    "type(loan_data['emp_length_int'][0])\n",
    "# Checks the datatype of a single element if it has changed to numeric numpy "
   ]
  },
  {
   "cell_type": "markdown",
   "id": "382ec693",
   "metadata": {},
   "source": [
    "#### earliest_cr_line column"
   ]
  },
  {
   "cell_type": "code",
   "execution_count": 15,
   "id": "8073e1ed",
   "metadata": {},
   "outputs": [
    {
     "data": {
      "text/plain": [
       "0         Jan-85\n",
       "1         Apr-99\n",
       "2         Nov-01\n",
       "3         Feb-96\n",
       "4         Jan-96\n",
       "           ...  \n",
       "466280    Apr-03\n",
       "466281    Jun-97\n",
       "466282    Dec-01\n",
       "466283    Feb-03\n",
       "466284    Feb-00\n",
       "Name: earliest_cr_line, Length: 466285, dtype: object"
      ]
     },
     "execution_count": 15,
     "metadata": {},
     "output_type": "execute_result"
    }
   ],
   "source": [
    "#A credit line is a name for a type of loan that allows you to borrow and repay money, usually on a revolving basis\n",
    "#this should be a date variable not a string variable \n",
    "loan_data['earliest_cr_line']"
   ]
  },
  {
   "cell_type": "code",
   "execution_count": 16,
   "id": "64bdbbfd",
   "metadata": {},
   "outputs": [],
   "source": [
    "# will convert these values to timestamps using pd.to_datetime\n",
    "loan_data['earliest_cr_line_date']=pd.to_datetime(loan_data['earliest_cr_line'],format='%b-%y')\n",
    "#format='%b-%y'here %b is to look for first 3 letters of the month and %y for last 2 numbers of the year\n",
    "#data in the column is given in this same format"
   ]
  },
  {
   "cell_type": "code",
   "execution_count": 17,
   "id": "802ff778",
   "metadata": {},
   "outputs": [
    {
     "data": {
      "text/plain": [
       "pandas._libs.tslibs.timestamps.Timestamp"
      ]
     },
     "execution_count": 17,
     "metadata": {},
     "output_type": "execute_result"
    }
   ],
   "source": [
    "type(loan_data['earliest_cr_line_date'][0])"
   ]
  },
  {
   "cell_type": "code",
   "execution_count": 18,
   "id": "106ca8c9",
   "metadata": {},
   "outputs": [
    {
     "data": {
      "text/plain": [
       "0        12022 days\n",
       "1         6819 days\n",
       "2         5874 days\n",
       "3         7974 days\n",
       "4         8005 days\n",
       "            ...    \n",
       "466280    5358 days\n",
       "466281    7488 days\n",
       "466282    5844 days\n",
       "466283    5417 days\n",
       "466284    6513 days\n",
       "Name: earliest_cr_line_date, Length: 466285, dtype: timedelta64[ns]"
      ]
     },
     "execution_count": 18,
     "metadata": {},
     "output_type": "execute_result"
    }
   ],
   "source": [
    "#now we need to know the no of days that have passed since each credit line was issued and present\n",
    "#since the data is older, we could use Dec 12 2017 as the date from which no of days passed is references\n",
    "pd.to_datetime('2017-12-01') - loan_data['earliest_cr_line_date']"
   ]
  },
  {
   "cell_type": "code",
   "execution_count": 19,
   "id": "3743dcd2",
   "metadata": {},
   "outputs": [],
   "source": [
    "#working with months instead of days is much easier\n",
    "loan_data['mnths_since_earliest_cr_line']=round(pd.to_numeric((pd.to_datetime('2017-12-01') - loan_data['earliest_cr_line_date'])/np.timedelta64(1,'M')))\n",
    "#np.delta64 converts form days to months"
   ]
  },
  {
   "cell_type": "code",
   "execution_count": 20,
   "id": "d21f0b80",
   "metadata": {},
   "outputs": [
    {
     "data": {
      "text/plain": [
       "count    466256.000000\n",
       "mean        239.482430\n",
       "std          93.974829\n",
       "min        -612.000000\n",
       "25%         183.000000\n",
       "50%         225.000000\n",
       "75%         285.000000\n",
       "max         587.000000\n",
       "Name: mnths_since_earliest_cr_line, dtype: float64"
      ]
     },
     "execution_count": 20,
     "metadata": {},
     "output_type": "execute_result"
    }
   ],
   "source": [
    "loan_data['mnths_since_earliest_cr_line'].describe()"
   ]
  },
  {
   "cell_type": "code",
   "execution_count": 21,
   "id": "aec032d5",
   "metadata": {},
   "outputs": [
    {
     "data": {
      "text/plain": [
       "'\\nthe min difference in months is -612, which indicates that the earliest line of credit has \\nvalues which are after Dec 12 2017, however since we specified to look for just the last two \\ndigits of the year, there is a possibility python coverted a year like 1967 to 2067\\nThus, we can take negative values of the column and impute them with the max difference since\\nthe difference since 1960s to 2017 is huge anyway\\n'"
      ]
     },
     "execution_count": 21,
     "metadata": {},
     "output_type": "execute_result"
    }
   ],
   "source": [
    "'''\n",
    "the min difference in months is -612, which indicates that the earliest line of credit has \n",
    "values which are after Dec 12 2017, however since we specified to look for just the last two \n",
    "digits of the year, there is a possibility python coverted a year like 1967 to 2067\n",
    "Thus, we can take negative values of the column and impute them with the max difference since\n",
    "the difference since 1960s to 2017 is huge anyway\n",
    "'''"
   ]
  },
  {
   "cell_type": "code",
   "execution_count": 22,
   "id": "3cb89350",
   "metadata": {},
   "outputs": [
    {
     "data": {
      "text/html": [
       "<div>\n",
       "<style scoped>\n",
       "    .dataframe tbody tr th:only-of-type {\n",
       "        vertical-align: middle;\n",
       "    }\n",
       "\n",
       "    .dataframe tbody tr th {\n",
       "        vertical-align: top;\n",
       "    }\n",
       "\n",
       "    .dataframe thead th {\n",
       "        text-align: right;\n",
       "    }\n",
       "</style>\n",
       "<table border=\"1\" class=\"dataframe\">\n",
       "  <thead>\n",
       "    <tr style=\"text-align: right;\">\n",
       "      <th></th>\n",
       "      <th>earliest_cr_line</th>\n",
       "      <th>earliest_cr_line_date</th>\n",
       "      <th>mnths_since_earliest_cr_line</th>\n",
       "    </tr>\n",
       "  </thead>\n",
       "  <tbody>\n",
       "    <tr>\n",
       "      <th>1580</th>\n",
       "      <td>Sep-62</td>\n",
       "      <td>2062-09-01</td>\n",
       "      <td>-537.0</td>\n",
       "    </tr>\n",
       "    <tr>\n",
       "      <th>1770</th>\n",
       "      <td>Sep-68</td>\n",
       "      <td>2068-09-01</td>\n",
       "      <td>-609.0</td>\n",
       "    </tr>\n",
       "    <tr>\n",
       "      <th>2799</th>\n",
       "      <td>Sep-64</td>\n",
       "      <td>2064-09-01</td>\n",
       "      <td>-561.0</td>\n",
       "    </tr>\n",
       "    <tr>\n",
       "      <th>3282</th>\n",
       "      <td>Sep-67</td>\n",
       "      <td>2067-09-01</td>\n",
       "      <td>-597.0</td>\n",
       "    </tr>\n",
       "    <tr>\n",
       "      <th>3359</th>\n",
       "      <td>Feb-65</td>\n",
       "      <td>2065-02-01</td>\n",
       "      <td>-566.0</td>\n",
       "    </tr>\n",
       "    <tr>\n",
       "      <th>...</th>\n",
       "      <td>...</td>\n",
       "      <td>...</td>\n",
       "      <td>...</td>\n",
       "    </tr>\n",
       "    <tr>\n",
       "      <th>464003</th>\n",
       "      <td>Jan-68</td>\n",
       "      <td>2068-01-01</td>\n",
       "      <td>-601.0</td>\n",
       "    </tr>\n",
       "    <tr>\n",
       "      <th>464260</th>\n",
       "      <td>Jul-66</td>\n",
       "      <td>2066-07-01</td>\n",
       "      <td>-583.0</td>\n",
       "    </tr>\n",
       "    <tr>\n",
       "      <th>465100</th>\n",
       "      <td>Oct-67</td>\n",
       "      <td>2067-10-01</td>\n",
       "      <td>-598.0</td>\n",
       "    </tr>\n",
       "    <tr>\n",
       "      <th>465500</th>\n",
       "      <td>Sep-67</td>\n",
       "      <td>2067-09-01</td>\n",
       "      <td>-597.0</td>\n",
       "    </tr>\n",
       "    <tr>\n",
       "      <th>465655</th>\n",
       "      <td>Jan-56</td>\n",
       "      <td>2056-01-01</td>\n",
       "      <td>-457.0</td>\n",
       "    </tr>\n",
       "  </tbody>\n",
       "</table>\n",
       "<p>1169 rows × 3 columns</p>\n",
       "</div>"
      ],
      "text/plain": [
       "       earliest_cr_line earliest_cr_line_date  mnths_since_earliest_cr_line\n",
       "1580             Sep-62            2062-09-01                        -537.0\n",
       "1770             Sep-68            2068-09-01                        -609.0\n",
       "2799             Sep-64            2064-09-01                        -561.0\n",
       "3282             Sep-67            2067-09-01                        -597.0\n",
       "3359             Feb-65            2065-02-01                        -566.0\n",
       "...                 ...                   ...                           ...\n",
       "464003           Jan-68            2068-01-01                        -601.0\n",
       "464260           Jul-66            2066-07-01                        -583.0\n",
       "465100           Oct-67            2067-10-01                        -598.0\n",
       "465500           Sep-67            2067-09-01                        -597.0\n",
       "465655           Jan-56            2056-01-01                        -457.0\n",
       "\n",
       "[1169 rows x 3 columns]"
      ]
     },
     "execution_count": 22,
     "metadata": {},
     "output_type": "execute_result"
    }
   ],
   "source": [
    "#subsetting the neagtive values from the 3 columns in use\n",
    "loan_data.loc[:,['earliest_cr_line','earliest_cr_line_date','mnths_since_earliest_cr_line']][loan_data['mnths_since_earliest_cr_line']<0]"
   ]
  },
  {
   "cell_type": "code",
   "execution_count": 23,
   "id": "d0527d9c",
   "metadata": {},
   "outputs": [
    {
     "data": {
      "text/plain": [
       "3507"
      ]
     },
     "execution_count": 23,
     "metadata": {},
     "output_type": "execute_result"
    }
   ],
   "source": [
    "\n",
    "(loan_data.loc[:,['earliest_cr_line','earliest_cr_line_date','mnths_since_earliest_cr_line']][loan_data['mnths_since_earliest_cr_line']<0]).size"
   ]
  },
  {
   "cell_type": "code",
   "execution_count": 24,
   "id": "7da5c234",
   "metadata": {},
   "outputs": [
    {
     "name": "stderr",
     "output_type": "stream",
     "text": [
      "<ipython-input-24-69d0060c4544>:2: SettingWithCopyWarning: \n",
      "A value is trying to be set on a copy of a slice from a DataFrame\n",
      "\n",
      "See the caveats in the documentation: https://pandas.pydata.org/pandas-docs/stable/user_guide/indexing.html#returning-a-view-versus-a-copy\n",
      "  loan_data['mnths_since_earliest_cr_line'][loan_data['mnths_since_earliest_cr_line'] < 0] =loan_data['mnths_since_earliest_cr_line'].max()\n"
     ]
    }
   ],
   "source": [
    "#setting the rows with negative difference to the maximum value\n",
    "loan_data['mnths_since_earliest_cr_line'][loan_data['mnths_since_earliest_cr_line'] < 0] =loan_data['mnths_since_earliest_cr_line'].max()"
   ]
  },
  {
   "cell_type": "code",
   "execution_count": 25,
   "id": "d409488a",
   "metadata": {},
   "outputs": [
    {
     "data": {
      "text/plain": [
       "73.0"
      ]
     },
     "execution_count": 25,
     "metadata": {},
     "output_type": "execute_result"
    }
   ],
   "source": [
    "#checking the new minimum number of months\n",
    "min(loan_data['mnths_since_earliest_cr_line'])"
   ]
  },
  {
   "cell_type": "markdown",
   "id": "16d116c1",
   "metadata": {},
   "source": [
    "#### Term column"
   ]
  },
  {
   "cell_type": "code",
   "execution_count": 26,
   "id": "3d8ae55e",
   "metadata": {},
   "outputs": [
    {
     "data": {
      "text/plain": [
       "array(['id', 'member_id', 'loan_amnt', 'funded_amnt', 'funded_amnt_inv',\n",
       "       'term', 'int_rate', 'installment', 'grade', 'sub_grade',\n",
       "       'emp_title', 'emp_length', 'home_ownership', 'annual_inc',\n",
       "       'verification_status', 'issue_d', 'loan_status', 'pymnt_plan',\n",
       "       'url', 'desc', 'purpose', 'title', 'zip_code', 'addr_state', 'dti',\n",
       "       'delinq_2yrs', 'earliest_cr_line', 'inq_last_6mths',\n",
       "       'mths_since_last_delinq', 'mths_since_last_record', 'open_acc',\n",
       "       'pub_rec', 'revol_bal', 'revol_util', 'total_acc',\n",
       "       'initial_list_status', 'out_prncp', 'out_prncp_inv', 'total_pymnt',\n",
       "       'total_pymnt_inv', 'total_rec_prncp', 'total_rec_int',\n",
       "       'total_rec_late_fee', 'recoveries', 'collection_recovery_fee',\n",
       "       'last_pymnt_d', 'last_pymnt_amnt', 'next_pymnt_d',\n",
       "       'last_credit_pull_d', 'collections_12_mths_ex_med',\n",
       "       'mths_since_last_major_derog', 'policy_code', 'application_type',\n",
       "       'annual_inc_joint', 'dti_joint', 'verification_status_joint',\n",
       "       'acc_now_delinq', 'tot_coll_amt', 'tot_cur_bal', 'open_acc_6m',\n",
       "       'open_il_6m', 'open_il_12m', 'open_il_24m', 'mths_since_rcnt_il',\n",
       "       'total_bal_il', 'il_util', 'open_rv_12m', 'open_rv_24m',\n",
       "       'max_bal_bc', 'all_util', 'total_rev_hi_lim', 'inq_fi',\n",
       "       'total_cu_tl', 'inq_last_12m', 'emp_length_int',\n",
       "       'earliest_cr_line_date', 'mnths_since_earliest_cr_line'],\n",
       "      dtype=object)"
      ]
     },
     "execution_count": 26,
     "metadata": {},
     "output_type": "execute_result"
    }
   ],
   "source": [
    "loan_data.columns.values"
   ]
  },
  {
   "cell_type": "code",
   "execution_count": 27,
   "id": "5d3fc8b1",
   "metadata": {},
   "outputs": [
    {
     "data": {
      "text/plain": [
       "pandas.core.series.Series"
      ]
     },
     "execution_count": 27,
     "metadata": {},
     "output_type": "execute_result"
    }
   ],
   "source": [
    "type(loan_data['term'])"
   ]
  },
  {
   "cell_type": "code",
   "execution_count": 28,
   "id": "fecbf558",
   "metadata": {},
   "outputs": [
    {
     "data": {
      "text/plain": [
       "dtype('O')"
      ]
     },
     "execution_count": 28,
     "metadata": {},
     "output_type": "execute_result"
    }
   ],
   "source": [
    "loan_data['term'].dtype"
   ]
  },
  {
   "cell_type": "code",
   "execution_count": 29,
   "id": "34ea8ce4",
   "metadata": {},
   "outputs": [
    {
     "data": {
      "text/plain": [
       "array([' 36 months', ' 60 months'], dtype=object)"
      ]
     },
     "execution_count": 29,
     "metadata": {},
     "output_type": "execute_result"
    }
   ],
   "source": [
    "#need to convert this object to integer data since it indicates the term of a loan\n",
    "loan_data['term'].unique()"
   ]
  },
  {
   "cell_type": "code",
   "execution_count": 30,
   "id": "89f4e3ad",
   "metadata": {},
   "outputs": [
    {
     "data": {
      "text/plain": [
       "count         466285\n",
       "unique             2\n",
       "top        36 months\n",
       "freq          337953\n",
       "Name: term, dtype: object"
      ]
     },
     "execution_count": 30,
     "metadata": {},
     "output_type": "execute_result"
    }
   ],
   "source": [
    "loan_data['term'].describe()"
   ]
  },
  {
   "cell_type": "code",
   "execution_count": 31,
   "id": "dbe07534",
   "metadata": {},
   "outputs": [],
   "source": [
    "#removing words from the values\n",
    "loan_data['term_int']=loan_data['term'].str.replace(' months', '')"
   ]
  },
  {
   "cell_type": "code",
   "execution_count": 32,
   "id": "be972e92",
   "metadata": {},
   "outputs": [
    {
     "data": {
      "text/plain": [
       "0          36\n",
       "1          60\n",
       "2          36\n",
       "3          36\n",
       "4          60\n",
       "         ... \n",
       "466280     60\n",
       "466281     60\n",
       "466282     60\n",
       "466283     36\n",
       "466284     36\n",
       "Name: term_int, Length: 466285, dtype: object"
      ]
     },
     "execution_count": 32,
     "metadata": {},
     "output_type": "execute_result"
    }
   ],
   "source": [
    "loan_data['term_int']"
   ]
  },
  {
   "cell_type": "code",
   "execution_count": 33,
   "id": "78973525",
   "metadata": {},
   "outputs": [
    {
     "data": {
      "text/plain": [
       "' 36'"
      ]
     },
     "execution_count": 33,
     "metadata": {},
     "output_type": "execute_result"
    }
   ],
   "source": [
    "loan_data['term_int'][0]"
   ]
  },
  {
   "cell_type": "code",
   "execution_count": 34,
   "id": "50fa7abb",
   "metadata": {},
   "outputs": [],
   "source": [
    "loan_data['term_int']=pd.to_numeric(loan_data['term'].str.replace(' months',''))"
   ]
  },
  {
   "cell_type": "code",
   "execution_count": 35,
   "id": "7c596739",
   "metadata": {},
   "outputs": [
    {
     "data": {
      "text/plain": [
       "0         36\n",
       "1         60\n",
       "2         36\n",
       "3         36\n",
       "4         60\n",
       "          ..\n",
       "466280    60\n",
       "466281    60\n",
       "466282    60\n",
       "466283    36\n",
       "466284    36\n",
       "Name: term_int, Length: 466285, dtype: int64"
      ]
     },
     "execution_count": 35,
     "metadata": {},
     "output_type": "execute_result"
    }
   ],
   "source": [
    "#dtype changed from object to int64\n",
    "loan_data['term_int']"
   ]
  },
  {
   "cell_type": "markdown",
   "id": "cff0e93a",
   "metadata": {},
   "source": [
    "#### Issue Date column"
   ]
  },
  {
   "cell_type": "code",
   "execution_count": 36,
   "id": "487aca4c",
   "metadata": {},
   "outputs": [
    {
     "data": {
      "text/plain": [
       "dtype('O')"
      ]
     },
     "execution_count": 36,
     "metadata": {},
     "output_type": "execute_result"
    }
   ],
   "source": [
    "loan_data['issue_d'].dtype"
   ]
  },
  {
   "cell_type": "code",
   "execution_count": 37,
   "id": "52936c47",
   "metadata": {},
   "outputs": [],
   "source": [
    "#the data should be in date form instead of object\n",
    "loan_data['issue_d_date']=pd.to_datetime(loan_data['issue_d'],format= '%b-%y')"
   ]
  },
  {
   "cell_type": "code",
   "execution_count": 38,
   "id": "0e951abf",
   "metadata": {},
   "outputs": [],
   "source": [
    "#lets extract the no of months since the issue dates of the loans till December 2017\n",
    "loan_data['mnths_since_issue_d']=round(pd.to_numeric((pd.to_datetime('2017-12-01') - loan_data['issue_d_date']) / np.timedelta64(1, 'M')))"
   ]
  },
  {
   "cell_type": "code",
   "execution_count": 39,
   "id": "599b605d",
   "metadata": {},
   "outputs": [
    {
     "data": {
      "text/plain": [
       "count    466285.000000\n",
       "mean         51.255187\n",
       "std          14.340154\n",
       "min          36.000000\n",
       "25%          41.000000\n",
       "50%          47.000000\n",
       "75%          57.000000\n",
       "max         126.000000\n",
       "Name: mnths_since_issue_d, dtype: float64"
      ]
     },
     "execution_count": 39,
     "metadata": {},
     "output_type": "execute_result"
    }
   ],
   "source": [
    "loan_data['mnths_since_issue_d'].describe()"
   ]
  },
  {
   "cell_type": "markdown",
   "id": "5b7758f5",
   "metadata": {},
   "source": [
    "### Pre-processing discrete variables"
   ]
  },
  {
   "cell_type": "code",
   "execution_count": 40,
   "id": "6b6fa936",
   "metadata": {},
   "outputs": [
    {
     "data": {
      "text/plain": [
       "'\\nwill create binary categories (0 0r 1) for some categorical variables in the dataset.\\ncolumns we would be using in this part are\\ngrade,sub_grade,home_ownership,verification_status,loan_status,purpose,addr_state,\\ninitial_list_status\\nDummy numerical values are neccesary to build statistical predictive models on the data\\n'"
      ]
     },
     "execution_count": 40,
     "metadata": {},
     "output_type": "execute_result"
    }
   ],
   "source": [
    "'''\n",
    "will create binary categories (0 0r 1) for some categorical variables in the dataset.\n",
    "columns we would be using in this part are\n",
    "grade,sub_grade,home_ownership,verification_status,loan_status,purpose,addr_state,\n",
    "initial_list_status\n",
    "Dummy numerical values are neccesary to build statistical predictive models on the data\n",
    "'''"
   ]
  },
  {
   "cell_type": "markdown",
   "id": "8b88a576",
   "metadata": {},
   "source": [
    "#### Grade column"
   ]
  },
  {
   "cell_type": "code",
   "execution_count": 41,
   "id": "071edb9d",
   "metadata": {},
   "outputs": [
    {
     "data": {
      "text/html": [
       "<div>\n",
       "<style scoped>\n",
       "    .dataframe tbody tr th:only-of-type {\n",
       "        vertical-align: middle;\n",
       "    }\n",
       "\n",
       "    .dataframe tbody tr th {\n",
       "        vertical-align: top;\n",
       "    }\n",
       "\n",
       "    .dataframe thead th {\n",
       "        text-align: right;\n",
       "    }\n",
       "</style>\n",
       "<table border=\"1\" class=\"dataframe\">\n",
       "  <thead>\n",
       "    <tr style=\"text-align: right;\">\n",
       "      <th></th>\n",
       "      <th>A</th>\n",
       "      <th>B</th>\n",
       "      <th>C</th>\n",
       "      <th>D</th>\n",
       "      <th>E</th>\n",
       "      <th>F</th>\n",
       "      <th>G</th>\n",
       "    </tr>\n",
       "  </thead>\n",
       "  <tbody>\n",
       "    <tr>\n",
       "      <th>0</th>\n",
       "      <td>0</td>\n",
       "      <td>1</td>\n",
       "      <td>0</td>\n",
       "      <td>0</td>\n",
       "      <td>0</td>\n",
       "      <td>0</td>\n",
       "      <td>0</td>\n",
       "    </tr>\n",
       "    <tr>\n",
       "      <th>1</th>\n",
       "      <td>0</td>\n",
       "      <td>0</td>\n",
       "      <td>1</td>\n",
       "      <td>0</td>\n",
       "      <td>0</td>\n",
       "      <td>0</td>\n",
       "      <td>0</td>\n",
       "    </tr>\n",
       "    <tr>\n",
       "      <th>2</th>\n",
       "      <td>0</td>\n",
       "      <td>0</td>\n",
       "      <td>1</td>\n",
       "      <td>0</td>\n",
       "      <td>0</td>\n",
       "      <td>0</td>\n",
       "      <td>0</td>\n",
       "    </tr>\n",
       "    <tr>\n",
       "      <th>3</th>\n",
       "      <td>0</td>\n",
       "      <td>0</td>\n",
       "      <td>1</td>\n",
       "      <td>0</td>\n",
       "      <td>0</td>\n",
       "      <td>0</td>\n",
       "      <td>0</td>\n",
       "    </tr>\n",
       "    <tr>\n",
       "      <th>4</th>\n",
       "      <td>0</td>\n",
       "      <td>1</td>\n",
       "      <td>0</td>\n",
       "      <td>0</td>\n",
       "      <td>0</td>\n",
       "      <td>0</td>\n",
       "      <td>0</td>\n",
       "    </tr>\n",
       "  </tbody>\n",
       "</table>\n",
       "</div>"
      ],
      "text/plain": [
       "   A  B  C  D  E  F  G\n",
       "0  0  1  0  0  0  0  0\n",
       "1  0  0  1  0  0  0  0\n",
       "2  0  0  1  0  0  0  0\n",
       "3  0  0  1  0  0  0  0\n",
       "4  0  1  0  0  0  0  0"
      ]
     },
     "execution_count": 41,
     "metadata": {},
     "output_type": "execute_result"
    }
   ],
   "source": [
    "#creating dummy variables with pd.get_dummy, here in the matrix, any of the unique values if present in\n",
    "#the specified row, will have the value of 1 for that row\n",
    "pd.get_dummies(loan_data['grade']).head()"
   ]
  },
  {
   "cell_type": "code",
   "execution_count": 42,
   "id": "471b8c17",
   "metadata": {},
   "outputs": [
    {
     "data": {
      "text/html": [
       "<div>\n",
       "<style scoped>\n",
       "    .dataframe tbody tr th:only-of-type {\n",
       "        vertical-align: middle;\n",
       "    }\n",
       "\n",
       "    .dataframe tbody tr th {\n",
       "        vertical-align: top;\n",
       "    }\n",
       "\n",
       "    .dataframe thead th {\n",
       "        text-align: right;\n",
       "    }\n",
       "</style>\n",
       "<table border=\"1\" class=\"dataframe\">\n",
       "  <thead>\n",
       "    <tr style=\"text-align: right;\">\n",
       "      <th></th>\n",
       "      <th>grade: A</th>\n",
       "      <th>grade: B</th>\n",
       "      <th>grade: C</th>\n",
       "      <th>grade: D</th>\n",
       "      <th>grade: E</th>\n",
       "      <th>grade: F</th>\n",
       "      <th>grade: G</th>\n",
       "    </tr>\n",
       "  </thead>\n",
       "  <tbody>\n",
       "    <tr>\n",
       "      <th>0</th>\n",
       "      <td>0</td>\n",
       "      <td>1</td>\n",
       "      <td>0</td>\n",
       "      <td>0</td>\n",
       "      <td>0</td>\n",
       "      <td>0</td>\n",
       "      <td>0</td>\n",
       "    </tr>\n",
       "    <tr>\n",
       "      <th>1</th>\n",
       "      <td>0</td>\n",
       "      <td>0</td>\n",
       "      <td>1</td>\n",
       "      <td>0</td>\n",
       "      <td>0</td>\n",
       "      <td>0</td>\n",
       "      <td>0</td>\n",
       "    </tr>\n",
       "    <tr>\n",
       "      <th>2</th>\n",
       "      <td>0</td>\n",
       "      <td>0</td>\n",
       "      <td>1</td>\n",
       "      <td>0</td>\n",
       "      <td>0</td>\n",
       "      <td>0</td>\n",
       "      <td>0</td>\n",
       "    </tr>\n",
       "    <tr>\n",
       "      <th>3</th>\n",
       "      <td>0</td>\n",
       "      <td>0</td>\n",
       "      <td>1</td>\n",
       "      <td>0</td>\n",
       "      <td>0</td>\n",
       "      <td>0</td>\n",
       "      <td>0</td>\n",
       "    </tr>\n",
       "    <tr>\n",
       "      <th>4</th>\n",
       "      <td>0</td>\n",
       "      <td>1</td>\n",
       "      <td>0</td>\n",
       "      <td>0</td>\n",
       "      <td>0</td>\n",
       "      <td>0</td>\n",
       "      <td>0</td>\n",
       "    </tr>\n",
       "  </tbody>\n",
       "</table>\n",
       "</div>"
      ],
      "text/plain": [
       "   grade: A  grade: B  grade: C  grade: D  grade: E  grade: F  grade: G\n",
       "0         0         1         0         0         0         0         0\n",
       "1         0         0         1         0         0         0         0\n",
       "2         0         0         1         0         0         0         0\n",
       "3         0         0         1         0         0         0         0\n",
       "4         0         1         0         0         0         0         0"
      ]
     },
     "execution_count": 42,
     "metadata": {},
     "output_type": "execute_result"
    }
   ],
   "source": [
    "#the name should be a little descriptive for each category\n",
    "pd.get_dummies(loan_data['grade'],prefix='grade',prefix_sep=': ').head()"
   ]
  },
  {
   "cell_type": "code",
   "execution_count": 43,
   "id": "00b6623d",
   "metadata": {},
   "outputs": [],
   "source": [
    "#assigning dummy variables to all categorical variables and making a list of them\n",
    "loan_data_dummies=[pd.get_dummies(loan_data['grade'],prefix='grade',prefix_sep=': '),\n",
    "                   pd.get_dummies(loan_data['sub_grade'],prefix='sub_grade',prefix_sep=': '),\n",
    "                   pd.get_dummies(loan_data['home_ownership'],prefix='home_ownership',prefix_sep=': '),\n",
    "                   pd.get_dummies(loan_data['verification_status'],prefix='verifiction_status',prefix_sep=': '),\n",
    "                   pd.get_dummies(loan_data['loan_status'],prefix='loan_status',prefix_sep=': '),\n",
    "                   pd.get_dummies(loan_data['purpose'],prefix='purpose',prefix_sep=': '),\n",
    "                   pd.get_dummies(loan_data['addr_state'],prefix='addr_state',prefix_sep=': '),\n",
    "                   pd.get_dummies(loan_data['initial_list_status'],prefix='initia_list_status',prefix_sep=': ')]"
   ]
  },
  {
   "cell_type": "code",
   "execution_count": 44,
   "id": "865d5ce0",
   "metadata": {},
   "outputs": [],
   "source": [
    "#turning the list into a dataframe using pd.concat\n",
    "loan_data_dummies=pd.concat(loan_data_dummies,axis=1)"
   ]
  },
  {
   "cell_type": "code",
   "execution_count": 45,
   "id": "c97c16a3",
   "metadata": {},
   "outputs": [
    {
     "data": {
      "text/plain": [
       "pandas.core.frame.DataFrame"
      ]
     },
     "execution_count": 45,
     "metadata": {},
     "output_type": "execute_result"
    }
   ],
   "source": [
    "type(loan_data_dummies)"
   ]
  },
  {
   "cell_type": "code",
   "execution_count": 46,
   "id": "0e4ee05e",
   "metadata": {},
   "outputs": [],
   "source": [
    "#concatenating dummy variables in the loan_data dataframe as columns\n",
    "loan_data=pd.concat([loan_data,loan_data_dummies],axis=1)"
   ]
  },
  {
   "cell_type": "code",
   "execution_count": 47,
   "id": "de23bf75",
   "metadata": {},
   "outputs": [
    {
     "data": {
      "text/plain": [
       "array(['id', 'member_id', 'loan_amnt', 'funded_amnt', 'funded_amnt_inv',\n",
       "       'term', 'int_rate', 'installment', 'grade', 'sub_grade',\n",
       "       'emp_title', 'emp_length', 'home_ownership', 'annual_inc',\n",
       "       'verification_status', 'issue_d', 'loan_status', 'pymnt_plan',\n",
       "       'url', 'desc', 'purpose', 'title', 'zip_code', 'addr_state', 'dti',\n",
       "       'delinq_2yrs', 'earliest_cr_line', 'inq_last_6mths',\n",
       "       'mths_since_last_delinq', 'mths_since_last_record', 'open_acc',\n",
       "       'pub_rec', 'revol_bal', 'revol_util', 'total_acc',\n",
       "       'initial_list_status', 'out_prncp', 'out_prncp_inv', 'total_pymnt',\n",
       "       'total_pymnt_inv', 'total_rec_prncp', 'total_rec_int',\n",
       "       'total_rec_late_fee', 'recoveries', 'collection_recovery_fee',\n",
       "       'last_pymnt_d', 'last_pymnt_amnt', 'next_pymnt_d',\n",
       "       'last_credit_pull_d', 'collections_12_mths_ex_med',\n",
       "       'mths_since_last_major_derog', 'policy_code', 'application_type',\n",
       "       'annual_inc_joint', 'dti_joint', 'verification_status_joint',\n",
       "       'acc_now_delinq', 'tot_coll_amt', 'tot_cur_bal', 'open_acc_6m',\n",
       "       'open_il_6m', 'open_il_12m', 'open_il_24m', 'mths_since_rcnt_il',\n",
       "       'total_bal_il', 'il_util', 'open_rv_12m', 'open_rv_24m',\n",
       "       'max_bal_bc', 'all_util', 'total_rev_hi_lim', 'inq_fi',\n",
       "       'total_cu_tl', 'inq_last_12m', 'emp_length_int',\n",
       "       'earliest_cr_line_date', 'mnths_since_earliest_cr_line',\n",
       "       'term_int', 'issue_d_date', 'mnths_since_issue_d', 'grade: A',\n",
       "       'grade: B', 'grade: C', 'grade: D', 'grade: E', 'grade: F',\n",
       "       'grade: G', 'sub_grade: A1', 'sub_grade: A2', 'sub_grade: A3',\n",
       "       'sub_grade: A4', 'sub_grade: A5', 'sub_grade: B1', 'sub_grade: B2',\n",
       "       'sub_grade: B3', 'sub_grade: B4', 'sub_grade: B5', 'sub_grade: C1',\n",
       "       'sub_grade: C2', 'sub_grade: C3', 'sub_grade: C4', 'sub_grade: C5',\n",
       "       'sub_grade: D1', 'sub_grade: D2', 'sub_grade: D3', 'sub_grade: D4',\n",
       "       'sub_grade: D5', 'sub_grade: E1', 'sub_grade: E2', 'sub_grade: E3',\n",
       "       'sub_grade: E4', 'sub_grade: E5', 'sub_grade: F1', 'sub_grade: F2',\n",
       "       'sub_grade: F3', 'sub_grade: F4', 'sub_grade: F5', 'sub_grade: G1',\n",
       "       'sub_grade: G2', 'sub_grade: G3', 'sub_grade: G4', 'sub_grade: G5',\n",
       "       'home_ownership: ANY', 'home_ownership: MORTGAGE',\n",
       "       'home_ownership: NONE', 'home_ownership: OTHER',\n",
       "       'home_ownership: OWN', 'home_ownership: RENT',\n",
       "       'verifiction_status: Not Verified',\n",
       "       'verifiction_status: Source Verified',\n",
       "       'verifiction_status: Verified', 'loan_status: Charged Off',\n",
       "       'loan_status: Current', 'loan_status: Default',\n",
       "       'loan_status: Does not meet the credit policy. Status:Charged Off',\n",
       "       'loan_status: Does not meet the credit policy. Status:Fully Paid',\n",
       "       'loan_status: Fully Paid', 'loan_status: In Grace Period',\n",
       "       'loan_status: Late (16-30 days)',\n",
       "       'loan_status: Late (31-120 days)', 'purpose: car',\n",
       "       'purpose: credit_card', 'purpose: debt_consolidation',\n",
       "       'purpose: educational', 'purpose: home_improvement',\n",
       "       'purpose: house', 'purpose: major_purchase', 'purpose: medical',\n",
       "       'purpose: moving', 'purpose: other', 'purpose: renewable_energy',\n",
       "       'purpose: small_business', 'purpose: vacation', 'purpose: wedding',\n",
       "       'addr_state: AK', 'addr_state: AL', 'addr_state: AR',\n",
       "       'addr_state: AZ', 'addr_state: CA', 'addr_state: CO',\n",
       "       'addr_state: CT', 'addr_state: DC', 'addr_state: DE',\n",
       "       'addr_state: FL', 'addr_state: GA', 'addr_state: HI',\n",
       "       'addr_state: IA', 'addr_state: ID', 'addr_state: IL',\n",
       "       'addr_state: IN', 'addr_state: KS', 'addr_state: KY',\n",
       "       'addr_state: LA', 'addr_state: MA', 'addr_state: MD',\n",
       "       'addr_state: ME', 'addr_state: MI', 'addr_state: MN',\n",
       "       'addr_state: MO', 'addr_state: MS', 'addr_state: MT',\n",
       "       'addr_state: NC', 'addr_state: NE', 'addr_state: NH',\n",
       "       'addr_state: NJ', 'addr_state: NM', 'addr_state: NV',\n",
       "       'addr_state: NY', 'addr_state: OH', 'addr_state: OK',\n",
       "       'addr_state: OR', 'addr_state: PA', 'addr_state: RI',\n",
       "       'addr_state: SC', 'addr_state: SD', 'addr_state: TN',\n",
       "       'addr_state: TX', 'addr_state: UT', 'addr_state: VA',\n",
       "       'addr_state: VT', 'addr_state: WA', 'addr_state: WI',\n",
       "       'addr_state: WV', 'addr_state: WY', 'initia_list_status: f',\n",
       "       'initia_list_status: w'], dtype=object)"
      ]
     },
     "execution_count": 47,
     "metadata": {},
     "output_type": "execute_result"
    }
   ],
   "source": [
    "#can check if the concatenation happened with:\n",
    "loan_data.columns.values"
   ]
  },
  {
   "cell_type": "markdown",
   "id": "94a9cb7f",
   "metadata": {},
   "source": [
    "## Handling missing values"
   ]
  },
  {
   "cell_type": "code",
   "execution_count": 48,
   "id": "841d6593",
   "metadata": {},
   "outputs": [
    {
     "data": {
      "text/plain": [
       "id                                                                       0\n",
       "member_id                                                                0\n",
       "loan_amnt                                                                0\n",
       "funded_amnt                                                              0\n",
       "funded_amnt_inv                                                          0\n",
       "term                                                                     0\n",
       "int_rate                                                                 0\n",
       "installment                                                              0\n",
       "grade                                                                    0\n",
       "sub_grade                                                                0\n",
       "emp_title                                                            27588\n",
       "emp_length                                                           21008\n",
       "home_ownership                                                           0\n",
       "annual_inc                                                               4\n",
       "verification_status                                                      0\n",
       "issue_d                                                                  0\n",
       "loan_status                                                              0\n",
       "pymnt_plan                                                               0\n",
       "url                                                                      0\n",
       "desc                                                                340302\n",
       "purpose                                                                  0\n",
       "title                                                                   20\n",
       "zip_code                                                                 0\n",
       "addr_state                                                               0\n",
       "dti                                                                      0\n",
       "delinq_2yrs                                                             29\n",
       "earliest_cr_line                                                        29\n",
       "inq_last_6mths                                                          29\n",
       "mths_since_last_delinq                                              250351\n",
       "mths_since_last_record                                              403647\n",
       "open_acc                                                                29\n",
       "pub_rec                                                                 29\n",
       "revol_bal                                                                0\n",
       "revol_util                                                             340\n",
       "total_acc                                                               29\n",
       "initial_list_status                                                      0\n",
       "out_prncp                                                                0\n",
       "out_prncp_inv                                                            0\n",
       "total_pymnt                                                              0\n",
       "total_pymnt_inv                                                          0\n",
       "total_rec_prncp                                                          0\n",
       "total_rec_int                                                            0\n",
       "total_rec_late_fee                                                       0\n",
       "recoveries                                                               0\n",
       "collection_recovery_fee                                                  0\n",
       "last_pymnt_d                                                           376\n",
       "last_pymnt_amnt                                                          0\n",
       "next_pymnt_d                                                        227214\n",
       "last_credit_pull_d                                                      42\n",
       "collections_12_mths_ex_med                                             145\n",
       "mths_since_last_major_derog                                         367311\n",
       "policy_code                                                              0\n",
       "application_type                                                         0\n",
       "annual_inc_joint                                                    466285\n",
       "dti_joint                                                           466285\n",
       "verification_status_joint                                           466285\n",
       "acc_now_delinq                                                          29\n",
       "tot_coll_amt                                                         70276\n",
       "tot_cur_bal                                                          70276\n",
       "open_acc_6m                                                         466285\n",
       "open_il_6m                                                          466285\n",
       "open_il_12m                                                         466285\n",
       "open_il_24m                                                         466285\n",
       "mths_since_rcnt_il                                                  466285\n",
       "total_bal_il                                                        466285\n",
       "il_util                                                             466285\n",
       "open_rv_12m                                                         466285\n",
       "open_rv_24m                                                         466285\n",
       "max_bal_bc                                                          466285\n",
       "all_util                                                            466285\n",
       "total_rev_hi_lim                                                     70276\n",
       "inq_fi                                                              466285\n",
       "total_cu_tl                                                         466285\n",
       "inq_last_12m                                                        466285\n",
       "emp_length_int                                                       21008\n",
       "earliest_cr_line_date                                                   29\n",
       "mnths_since_earliest_cr_line                                            29\n",
       "term_int                                                                 0\n",
       "issue_d_date                                                             0\n",
       "mnths_since_issue_d                                                      0\n",
       "grade: A                                                                 0\n",
       "grade: B                                                                 0\n",
       "grade: C                                                                 0\n",
       "grade: D                                                                 0\n",
       "grade: E                                                                 0\n",
       "grade: F                                                                 0\n",
       "grade: G                                                                 0\n",
       "sub_grade: A1                                                            0\n",
       "sub_grade: A2                                                            0\n",
       "sub_grade: A3                                                            0\n",
       "sub_grade: A4                                                            0\n",
       "sub_grade: A5                                                            0\n",
       "sub_grade: B1                                                            0\n",
       "sub_grade: B2                                                            0\n",
       "sub_grade: B3                                                            0\n",
       "sub_grade: B4                                                            0\n",
       "sub_grade: B5                                                            0\n",
       "sub_grade: C1                                                            0\n",
       "sub_grade: C2                                                            0\n",
       "sub_grade: C3                                                            0\n",
       "sub_grade: C4                                                            0\n",
       "sub_grade: C5                                                            0\n",
       "sub_grade: D1                                                            0\n",
       "sub_grade: D2                                                            0\n",
       "sub_grade: D3                                                            0\n",
       "sub_grade: D4                                                            0\n",
       "sub_grade: D5                                                            0\n",
       "sub_grade: E1                                                            0\n",
       "sub_grade: E2                                                            0\n",
       "sub_grade: E3                                                            0\n",
       "sub_grade: E4                                                            0\n",
       "sub_grade: E5                                                            0\n",
       "sub_grade: F1                                                            0\n",
       "sub_grade: F2                                                            0\n",
       "sub_grade: F3                                                            0\n",
       "sub_grade: F4                                                            0\n",
       "sub_grade: F5                                                            0\n",
       "sub_grade: G1                                                            0\n",
       "sub_grade: G2                                                            0\n",
       "sub_grade: G3                                                            0\n",
       "sub_grade: G4                                                            0\n",
       "sub_grade: G5                                                            0\n",
       "home_ownership: ANY                                                      0\n",
       "home_ownership: MORTGAGE                                                 0\n",
       "home_ownership: NONE                                                     0\n",
       "home_ownership: OTHER                                                    0\n",
       "home_ownership: OWN                                                      0\n",
       "home_ownership: RENT                                                     0\n",
       "verifiction_status: Not Verified                                         0\n",
       "verifiction_status: Source Verified                                      0\n",
       "verifiction_status: Verified                                             0\n",
       "loan_status: Charged Off                                                 0\n",
       "loan_status: Current                                                     0\n",
       "loan_status: Default                                                     0\n",
       "loan_status: Does not meet the credit policy. Status:Charged Off         0\n",
       "loan_status: Does not meet the credit policy. Status:Fully Paid          0\n",
       "loan_status: Fully Paid                                                  0\n",
       "loan_status: In Grace Period                                             0\n",
       "loan_status: Late (16-30 days)                                           0\n",
       "loan_status: Late (31-120 days)                                          0\n",
       "purpose: car                                                             0\n",
       "purpose: credit_card                                                     0\n",
       "purpose: debt_consolidation                                              0\n",
       "purpose: educational                                                     0\n",
       "purpose: home_improvement                                                0\n",
       "purpose: house                                                           0\n",
       "purpose: major_purchase                                                  0\n",
       "purpose: medical                                                         0\n",
       "purpose: moving                                                          0\n",
       "purpose: other                                                           0\n",
       "purpose: renewable_energy                                                0\n",
       "purpose: small_business                                                  0\n",
       "purpose: vacation                                                        0\n",
       "purpose: wedding                                                         0\n",
       "addr_state: AK                                                           0\n",
       "addr_state: AL                                                           0\n",
       "addr_state: AR                                                           0\n",
       "addr_state: AZ                                                           0\n",
       "addr_state: CA                                                           0\n",
       "addr_state: CO                                                           0\n",
       "addr_state: CT                                                           0\n",
       "addr_state: DC                                                           0\n",
       "addr_state: DE                                                           0\n",
       "addr_state: FL                                                           0\n",
       "addr_state: GA                                                           0\n",
       "addr_state: HI                                                           0\n",
       "addr_state: IA                                                           0\n",
       "addr_state: ID                                                           0\n",
       "addr_state: IL                                                           0\n",
       "addr_state: IN                                                           0\n",
       "addr_state: KS                                                           0\n",
       "addr_state: KY                                                           0\n",
       "addr_state: LA                                                           0\n",
       "addr_state: MA                                                           0\n",
       "addr_state: MD                                                           0\n",
       "addr_state: ME                                                           0\n",
       "addr_state: MI                                                           0\n",
       "addr_state: MN                                                           0\n",
       "addr_state: MO                                                           0\n",
       "addr_state: MS                                                           0\n",
       "addr_state: MT                                                           0\n",
       "addr_state: NC                                                           0\n",
       "addr_state: NE                                                           0\n",
       "addr_state: NH                                                           0\n",
       "addr_state: NJ                                                           0\n",
       "addr_state: NM                                                           0\n",
       "addr_state: NV                                                           0\n",
       "addr_state: NY                                                           0\n",
       "addr_state: OH                                                           0\n",
       "addr_state: OK                                                           0\n",
       "addr_state: OR                                                           0\n",
       "addr_state: PA                                                           0\n",
       "addr_state: RI                                                           0\n",
       "addr_state: SC                                                           0\n",
       "addr_state: SD                                                           0\n",
       "addr_state: TN                                                           0\n",
       "addr_state: TX                                                           0\n",
       "addr_state: UT                                                           0\n",
       "addr_state: VA                                                           0\n",
       "addr_state: VT                                                           0\n",
       "addr_state: WA                                                           0\n",
       "addr_state: WI                                                           0\n",
       "addr_state: WV                                                           0\n",
       "addr_state: WY                                                           0\n",
       "initia_list_status: f                                                    0\n",
       "initia_list_status: w                                                    0\n",
       "dtype: int64"
      ]
     },
     "execution_count": 48,
     "metadata": {},
     "output_type": "execute_result"
    }
   ],
   "source": [
    "pd.options.display.max_rows=None #shows all columns \n",
    "loan_data.isnull().sum() #checking missing values for all columns"
   ]
  },
  {
   "cell_type": "code",
   "execution_count": 49,
   "id": "d42879df",
   "metadata": {},
   "outputs": [],
   "source": [
    "pd.options.display.max_rows=100"
   ]
  },
  {
   "cell_type": "markdown",
   "id": "6e69fd0b",
   "metadata": {},
   "source": [
    "#### Total Revolving Limit column"
   ]
  },
  {
   "cell_type": "code",
   "execution_count": 50,
   "id": "c4745c49",
   "metadata": {},
   "outputs": [
    {
     "data": {
      "text/plain": [
       "'\\nA revolving credit limit is just the maximum amount you can keep borrowing from \\nyour line of credit. If the value any is missing in this column, we can impute\\nit with the full funded amount of the loan\\n'"
      ]
     },
     "execution_count": 50,
     "metadata": {},
     "output_type": "execute_result"
    }
   ],
   "source": [
    "'''\n",
    "A revolving credit limit is just the maximum amount you can keep borrowing from \n",
    "your line of credit. If the value any is missing in this column, we can impute\n",
    "it with the full funded amount of the loan\n",
    "'''"
   ]
  },
  {
   "cell_type": "code",
   "execution_count": 51,
   "id": "3265f9b0",
   "metadata": {},
   "outputs": [],
   "source": [
    "#imputing missing values with the funded amount of a loan\n",
    "loan_data['total_rev_hi_lim'].fillna(loan_data['funded_amnt'],inplace=True)"
   ]
  },
  {
   "cell_type": "code",
   "execution_count": 52,
   "id": "6c720cda",
   "metadata": {},
   "outputs": [
    {
     "data": {
      "text/plain": [
       "0"
      ]
     },
     "execution_count": 52,
     "metadata": {},
     "output_type": "execute_result"
    }
   ],
   "source": [
    "#checking if there are still any misisng values left\n",
    "loan_data['total_rev_hi_lim'].isnull().sum()"
   ]
  },
  {
   "cell_type": "markdown",
   "id": "f904b3eb",
   "metadata": {},
   "source": [
    "#### Annual Income Column "
   ]
  },
  {
   "cell_type": "code",
   "execution_count": 53,
   "id": "8896e9e8",
   "metadata": {},
   "outputs": [],
   "source": [
    "#for missing values in annual income column we can impute using the mean of the dataset\n",
    "loan_data['annual_inc'].fillna(loan_data['annual_inc'].mean(),inplace=True)"
   ]
  },
  {
   "cell_type": "code",
   "execution_count": 54,
   "id": "5b5951d4",
   "metadata": {},
   "outputs": [
    {
     "data": {
      "text/plain": [
       "0"
      ]
     },
     "execution_count": 54,
     "metadata": {},
     "output_type": "execute_result"
    }
   ],
   "source": [
    "loan_data['annual_inc'].isnull().sum()"
   ]
  },
  {
   "cell_type": "markdown",
   "id": "89e0e1d0",
   "metadata": {},
   "source": [
    "#### Columns where missing values can be imputed with 0"
   ]
  },
  {
   "cell_type": "code",
   "execution_count": 55,
   "id": "f8f52ac1",
   "metadata": {},
   "outputs": [],
   "source": [
    "loan_data['mnths_since_earliest_cr_line'].fillna(0, inplace=True) \n",
    "#The number of accounts on which the borrower is now delinquent.\n",
    "loan_data['acc_now_delinq'].fillna(0, inplace=True)\n",
    "#The total number of credit lines currently in the borrower's credit file\n",
    "loan_data['total_acc'].fillna(0, inplace=True)\n",
    "#Number of derogatory public records\n",
    "loan_data['pub_rec'].fillna(0, inplace=True)\n",
    "#The number of open credit lines in the borrower's credit file.\n",
    "loan_data['open_acc'].fillna(0, inplace=True)\n",
    "#The number of inquiries in past 6 months (excluding auto and mortgage inquiries)\n",
    "loan_data['inq_last_6mths'].fillna(0, inplace=True)\n",
    "#The number of 30+ days past-due incidences of delinquency in the borrower's credit file for the past\n",
    "loan_data['delinq_2yrs'].fillna(0, inplace=True)\n",
    "#Employment length in years. Possible values are between 0 and 10 where 0 means less than one year\n",
    "loan_data['emp_length_int'].fillna(0, inplace=True)"
   ]
  },
  {
   "cell_type": "markdown",
   "id": "3b3245ba",
   "metadata": {},
   "source": [
    "# Expected Loss Modelling Part #1: PD Model"
   ]
  },
  {
   "cell_type": "markdown",
   "id": "7948b090",
   "metadata": {},
   "source": [
    "### Dependent Variable: Good/ Bad(default) accounts"
   ]
  },
  {
   "cell_type": "code",
   "execution_count": 56,
   "id": "a5c5ab6e",
   "metadata": {},
   "outputs": [
    {
     "data": {
      "text/plain": [
       "array(['Fully Paid', 'Charged Off', 'Current', 'Default',\n",
       "       'Late (31-120 days)', 'In Grace Period', 'Late (16-30 days)',\n",
       "       'Does not meet the credit policy. Status:Fully Paid',\n",
       "       'Does not meet the credit policy. Status:Charged Off'],\n",
       "      dtype=object)"
      ]
     },
     "execution_count": 56,
     "metadata": {},
     "output_type": "execute_result"
    }
   ],
   "source": [
    "loan_data['loan_status'].unique()"
   ]
  },
  {
   "cell_type": "code",
   "execution_count": 57,
   "id": "7a6ca8f0",
   "metadata": {},
   "outputs": [
    {
     "data": {
      "text/plain": [
       "Current                                                224226\n",
       "Fully Paid                                             184739\n",
       "Charged Off                                             42475\n",
       "Late (31-120 days)                                       6900\n",
       "In Grace Period                                          3146\n",
       "Does not meet the credit policy. Status:Fully Paid       1988\n",
       "Late (16-30 days)                                        1218\n",
       "Default                                                   832\n",
       "Does not meet the credit policy. Status:Charged Off       761\n",
       "Name: loan_status, dtype: int64"
      ]
     },
     "execution_count": 57,
     "metadata": {},
     "output_type": "execute_result"
    }
   ],
   "source": [
    "#accounts per category\n",
    "loan_data['loan_status'].value_counts()"
   ]
  },
  {
   "cell_type": "code",
   "execution_count": 58,
   "id": "8a93ed77",
   "metadata": {},
   "outputs": [
    {
     "data": {
      "text/plain": [
       "Current                                                48.1\n",
       "Fully Paid                                             39.6\n",
       "Charged Off                                             9.1\n",
       "Late (31-120 days)                                      1.5\n",
       "In Grace Period                                         0.7\n",
       "Does not meet the credit policy. Status:Fully Paid      0.4\n",
       "Late (16-30 days)                                       0.3\n",
       "Default                                                 0.2\n",
       "Does not meet the credit policy. Status:Charged Off     0.2\n",
       "Name: loan_status, dtype: float64"
      ]
     },
     "execution_count": 58,
     "metadata": {},
     "output_type": "execute_result"
    }
   ],
   "source": [
    "#each category as a percetnage of total loans\n",
    "round((loan_data['loan_status'].value_counts()/loan_data['loan_status'].count())*100,1)"
   ]
  },
  {
   "cell_type": "code",
   "execution_count": 59,
   "id": "13ae2eb0",
   "metadata": {},
   "outputs": [
    {
     "data": {
      "text/plain": [
       "\"\\nTo use the data for logistic regression, we have to segregate loan_status values as \\n'Good accounts' coded as 1 or 'Bad accounts' (defaulted in the past) coded as 0. \\nTo acheive this, lets take alook at which columns indicate default accounts\\n'Charged_Off',\\n'Default',\\n'Does not meet the credit policy: Charged Off',\\n'Late (31-120 days)'\\n\""
      ]
     },
     "execution_count": 59,
     "metadata": {},
     "output_type": "execute_result"
    }
   ],
   "source": [
    "'''\n",
    "To use the data for logistic regression, we have to segregate loan_status values as \n",
    "'Good accounts' coded as 1 or 'Bad accounts' (defaulted in the past) coded as 0. \n",
    "To acheive this, lets take alook at which columns indicate default accounts\n",
    "'Charged_Off',\n",
    "'Default',\n",
    "'Does not meet the credit policy: Charged Off',\n",
    "'Late (31-120 days)'\n",
    "'''"
   ]
  },
  {
   "cell_type": "code",
   "execution_count": 60,
   "id": "4804a3af",
   "metadata": {},
   "outputs": [],
   "source": [
    "#can use np.where to classify ccounts as good or bad which works like an IF condition\n",
    "loan_data['good_bad']=np.where(loan_data['loan_status'].isin(['Charged Off',\n",
    "                                                'Late (31-120 days)',\n",
    "                                                'Default',\n",
    "                                        'Does not meet the credit policy. Status:Charged Off']),\n",
    "                              0,1)"
   ]
  },
  {
   "cell_type": "code",
   "execution_count": 61,
   "id": "202a8c27",
   "metadata": {},
   "outputs": [
    {
     "data": {
      "text/plain": [
       "0    1\n",
       "1    0\n",
       "2    1\n",
       "3    1\n",
       "4    1\n",
       "Name: good_bad, dtype: int32"
      ]
     },
     "execution_count": 61,
     "metadata": {},
     "output_type": "execute_result"
    }
   ],
   "source": [
    "loan_data['good_bad'].head()"
   ]
  },
  {
   "cell_type": "markdown",
   "id": "ed73bef9",
   "metadata": {},
   "source": [
    "### Splitting the data in train and test fit"
   ]
  },
  {
   "cell_type": "code",
   "execution_count": 62,
   "id": "7314c551",
   "metadata": {},
   "outputs": [],
   "source": [
    "from sklearn.model_selection import train_test_split"
   ]
  },
  {
   "cell_type": "code",
   "execution_count": 63,
   "id": "9488c6dd",
   "metadata": {},
   "outputs": [],
   "source": [
    "#train dataset would not contain good_bad column, it is included as the test set\n",
    "loan_data_inputs_train,loan_data_inputs_test,loan_data_targets_train,loan_data_targets_test=train_test_split(loan_data.drop('good_bad',axis=1),loan_data['good_bad'])"
   ]
  },
  {
   "cell_type": "code",
   "execution_count": 64,
   "id": "ddf8d391",
   "metadata": {},
   "outputs": [
    {
     "data": {
      "text/plain": [
       "(349713, 206)"
      ]
     },
     "execution_count": 64,
     "metadata": {},
     "output_type": "execute_result"
    }
   ],
   "source": [
    "loan_data_inputs_train.shape"
   ]
  },
  {
   "cell_type": "code",
   "execution_count": 65,
   "id": "fd2eef11",
   "metadata": {},
   "outputs": [
    {
     "data": {
      "text/plain": [
       "(349713,)"
      ]
     },
     "execution_count": 65,
     "metadata": {},
     "output_type": "execute_result"
    }
   ],
   "source": [
    "loan_data_targets_train.shape"
   ]
  },
  {
   "cell_type": "code",
   "execution_count": 66,
   "id": "ca65ab6b",
   "metadata": {},
   "outputs": [
    {
     "data": {
      "text/plain": [
       "(116572, 206)"
      ]
     },
     "execution_count": 66,
     "metadata": {},
     "output_type": "execute_result"
    }
   ],
   "source": [
    "loan_data_inputs_test.shape"
   ]
  },
  {
   "cell_type": "code",
   "execution_count": 67,
   "id": "462d7bd7",
   "metadata": {},
   "outputs": [
    {
     "data": {
      "text/plain": [
       "(116572,)"
      ]
     },
     "execution_count": 67,
     "metadata": {},
     "output_type": "execute_result"
    }
   ],
   "source": [
    "#indicates the target variable\n",
    "loan_data_targets_test.shape"
   ]
  },
  {
   "cell_type": "code",
   "execution_count": 68,
   "id": "ea8c6823",
   "metadata": {},
   "outputs": [],
   "source": [
    "# train data: 80%, to avoid random shuffling every time use random_state\n",
    "loan_data_inputs_train,loan_data_inputs_test,loan_data_targets_train,loan_data_targets_test=train_test_split(loan_data.drop('good_bad',axis=1),loan_data['good_bad'],test_size=0.2,random_state=42)"
   ]
  },
  {
   "cell_type": "code",
   "execution_count": 69,
   "id": "716009cb",
   "metadata": {},
   "outputs": [
    {
     "data": {
      "text/plain": [
       "(373028, 206)"
      ]
     },
     "execution_count": 69,
     "metadata": {},
     "output_type": "execute_result"
    }
   ],
   "source": [
    "loan_data_inputs_train.shape"
   ]
  },
  {
   "cell_type": "code",
   "execution_count": 70,
   "id": "fa43294b",
   "metadata": {},
   "outputs": [
    {
     "data": {
      "text/plain": [
       "(373028,)"
      ]
     },
     "execution_count": 70,
     "metadata": {},
     "output_type": "execute_result"
    }
   ],
   "source": [
    "loan_data_targets_train.shape"
   ]
  },
  {
   "cell_type": "code",
   "execution_count": 71,
   "id": "5dd52573",
   "metadata": {},
   "outputs": [
    {
     "data": {
      "text/plain": [
       "(93257, 206)"
      ]
     },
     "execution_count": 71,
     "metadata": {},
     "output_type": "execute_result"
    }
   ],
   "source": [
    "loan_data_inputs_test.shape"
   ]
  },
  {
   "cell_type": "code",
   "execution_count": 72,
   "id": "5fb5631b",
   "metadata": {},
   "outputs": [
    {
     "data": {
      "text/plain": [
       "(93257,)"
      ]
     },
     "execution_count": 72,
     "metadata": {},
     "output_type": "execute_result"
    }
   ],
   "source": [
    "loan_data_targets_test.shape"
   ]
  },
  {
   "cell_type": "markdown",
   "id": "069e4ac8",
   "metadata": {},
   "source": [
    "#### Using some more Categorical Variables"
   ]
  },
  {
   "cell_type": "code",
   "execution_count": 73,
   "id": "6c576608",
   "metadata": {},
   "outputs": [],
   "source": [
    "df_inputs_prepr=loan_data_inputs_train\n",
    "df_targets_prepr=loan_data_targets_train"
   ]
  },
  {
   "cell_type": "code",
   "execution_count": 74,
   "id": "ad721142",
   "metadata": {},
   "outputs": [
    {
     "data": {
      "text/plain": [
       "array(['A', 'C', 'D', 'B', 'E', 'F', 'G'], dtype=object)"
      ]
     },
     "execution_count": 74,
     "metadata": {},
     "output_type": "execute_result"
    }
   ],
   "source": [
    "df_inputs_prepr['grade'].unique()"
   ]
  },
  {
   "cell_type": "code",
   "execution_count": 85,
   "id": "235c54d8",
   "metadata": {},
   "outputs": [
    {
     "data": {
      "text/html": [
       "<div>\n",
       "<style scoped>\n",
       "    .dataframe tbody tr th:only-of-type {\n",
       "        vertical-align: middle;\n",
       "    }\n",
       "\n",
       "    .dataframe tbody tr th {\n",
       "        vertical-align: top;\n",
       "    }\n",
       "\n",
       "    .dataframe thead th {\n",
       "        text-align: right;\n",
       "    }\n",
       "</style>\n",
       "<table border=\"1\" class=\"dataframe\">\n",
       "  <thead>\n",
       "    <tr style=\"text-align: right;\">\n",
       "      <th></th>\n",
       "      <th>grade</th>\n",
       "      <th>good_bad</th>\n",
       "    </tr>\n",
       "  </thead>\n",
       "  <tbody>\n",
       "    <tr>\n",
       "      <th>427211</th>\n",
       "      <td>A</td>\n",
       "      <td>1</td>\n",
       "    </tr>\n",
       "    <tr>\n",
       "      <th>206088</th>\n",
       "      <td>C</td>\n",
       "      <td>1</td>\n",
       "    </tr>\n",
       "    <tr>\n",
       "      <th>136020</th>\n",
       "      <td>A</td>\n",
       "      <td>1</td>\n",
       "    </tr>\n",
       "    <tr>\n",
       "      <th>412305</th>\n",
       "      <td>D</td>\n",
       "      <td>0</td>\n",
       "    </tr>\n",
       "    <tr>\n",
       "      <th>36159</th>\n",
       "      <td>C</td>\n",
       "      <td>0</td>\n",
       "    </tr>\n",
       "  </tbody>\n",
       "</table>\n",
       "</div>"
      ],
      "text/plain": [
       "       grade  good_bad\n",
       "427211     A         1\n",
       "206088     C         1\n",
       "136020     A         1\n",
       "412305     D         0\n",
       "36159      C         0"
      ]
     },
     "execution_count": 85,
     "metadata": {},
     "output_type": "execute_result"
    }
   ],
   "source": [
    "df1=pd.concat([df_inputs_prepr['grade'],df_targets_prepr],axis=1)\n",
    "df1.head()"
   ]
  },
  {
   "cell_type": "code",
   "execution_count": 86,
   "id": "567e9919",
   "metadata": {},
   "outputs": [
    {
     "data": {
      "text/html": [
       "<div>\n",
       "<style scoped>\n",
       "    .dataframe tbody tr th:only-of-type {\n",
       "        vertical-align: middle;\n",
       "    }\n",
       "\n",
       "    .dataframe tbody tr th {\n",
       "        vertical-align: top;\n",
       "    }\n",
       "\n",
       "    .dataframe thead th {\n",
       "        text-align: right;\n",
       "    }\n",
       "</style>\n",
       "<table border=\"1\" class=\"dataframe\">\n",
       "  <thead>\n",
       "    <tr style=\"text-align: right;\">\n",
       "      <th></th>\n",
       "      <th>grade</th>\n",
       "      <th>good_bad</th>\n",
       "    </tr>\n",
       "  </thead>\n",
       "  <tbody>\n",
       "    <tr>\n",
       "      <th>0</th>\n",
       "      <td>A</td>\n",
       "      <td>59759</td>\n",
       "    </tr>\n",
       "    <tr>\n",
       "      <th>1</th>\n",
       "      <td>B</td>\n",
       "      <td>109730</td>\n",
       "    </tr>\n",
       "    <tr>\n",
       "      <th>2</th>\n",
       "      <td>C</td>\n",
       "      <td>100245</td>\n",
       "    </tr>\n",
       "    <tr>\n",
       "      <th>3</th>\n",
       "      <td>D</td>\n",
       "      <td>61498</td>\n",
       "    </tr>\n",
       "    <tr>\n",
       "      <th>4</th>\n",
       "      <td>E</td>\n",
       "      <td>28612</td>\n",
       "    </tr>\n",
       "    <tr>\n",
       "      <th>5</th>\n",
       "      <td>F</td>\n",
       "      <td>10530</td>\n",
       "    </tr>\n",
       "    <tr>\n",
       "      <th>6</th>\n",
       "      <td>G</td>\n",
       "      <td>2654</td>\n",
       "    </tr>\n",
       "  </tbody>\n",
       "</table>\n",
       "</div>"
      ],
      "text/plain": [
       "  grade  good_bad\n",
       "0     A     59759\n",
       "1     B    109730\n",
       "2     C    100245\n",
       "3     D     61498\n",
       "4     E     28612\n",
       "5     F     10530\n",
       "6     G      2654"
      ]
     },
     "execution_count": 86,
     "metadata": {},
     "output_type": "execute_result"
    }
   ],
   "source": [
    "#no of rows in the dataset for each category of grade\n",
    "df1.groupby(df1.columns.values[0],as_index=False)[df1.columns.values[1]].count()"
   ]
  },
  {
   "cell_type": "code",
   "execution_count": 87,
   "id": "82080bc8",
   "metadata": {},
   "outputs": [
    {
     "data": {
      "text/html": [
       "<div>\n",
       "<style scoped>\n",
       "    .dataframe tbody tr th:only-of-type {\n",
       "        vertical-align: middle;\n",
       "    }\n",
       "\n",
       "    .dataframe tbody tr th {\n",
       "        vertical-align: top;\n",
       "    }\n",
       "\n",
       "    .dataframe thead th {\n",
       "        text-align: right;\n",
       "    }\n",
       "</style>\n",
       "<table border=\"1\" class=\"dataframe\">\n",
       "  <thead>\n",
       "    <tr style=\"text-align: right;\">\n",
       "      <th></th>\n",
       "      <th>grade</th>\n",
       "      <th>good_bad</th>\n",
       "    </tr>\n",
       "  </thead>\n",
       "  <tbody>\n",
       "    <tr>\n",
       "      <th>0</th>\n",
       "      <td>A</td>\n",
       "      <td>0.961044</td>\n",
       "    </tr>\n",
       "    <tr>\n",
       "      <th>1</th>\n",
       "      <td>B</td>\n",
       "      <td>0.921015</td>\n",
       "    </tr>\n",
       "    <tr>\n",
       "      <th>2</th>\n",
       "      <td>C</td>\n",
       "      <td>0.885770</td>\n",
       "    </tr>\n",
       "    <tr>\n",
       "      <th>3</th>\n",
       "      <td>D</td>\n",
       "      <td>0.846304</td>\n",
       "    </tr>\n",
       "    <tr>\n",
       "      <th>4</th>\n",
       "      <td>E</td>\n",
       "      <td>0.805257</td>\n",
       "    </tr>\n",
       "    <tr>\n",
       "      <th>5</th>\n",
       "      <td>F</td>\n",
       "      <td>0.754416</td>\n",
       "    </tr>\n",
       "    <tr>\n",
       "      <th>6</th>\n",
       "      <td>G</td>\n",
       "      <td>0.727958</td>\n",
       "    </tr>\n",
       "  </tbody>\n",
       "</table>\n",
       "</div>"
      ],
      "text/plain": [
       "  grade  good_bad\n",
       "0     A  0.961044\n",
       "1     B  0.921015\n",
       "2     C  0.885770\n",
       "3     D  0.846304\n",
       "4     E  0.805257\n",
       "5     F  0.754416\n",
       "6     G  0.727958"
      ]
     },
     "execution_count": 87,
     "metadata": {},
     "output_type": "execute_result"
    }
   ],
   "source": [
    "#no of rows in the dataset for each category of grade\n",
    "#Does not turn the names of the values of the criterion as indexes as_index=False\n",
    "#Here we calculate the mean of the values in the column with index 1 for each value of the column with index 0.\n",
    "df1.groupby(df1.columns.values[0],as_index=False)[df1.columns.values[1]].mean()"
   ]
  },
  {
   "cell_type": "code",
   "execution_count": 88,
   "id": "0bb9108c",
   "metadata": {},
   "outputs": [],
   "source": [
    "df1 = pd.concat([df1.groupby(df1.columns.values[0], as_index = False)[df1.columns.values[1]].count(),\n",
    "                df1.groupby(df1.columns.values[0], as_index = False)[df1.columns.values[1]].mean()], axis = 1)\n",
    "# Concatenates two dataframes along the columns."
   ]
  },
  {
   "cell_type": "code",
   "execution_count": 89,
   "id": "1ba56107",
   "metadata": {},
   "outputs": [
    {
     "data": {
      "text/html": [
       "<div>\n",
       "<style scoped>\n",
       "    .dataframe tbody tr th:only-of-type {\n",
       "        vertical-align: middle;\n",
       "    }\n",
       "\n",
       "    .dataframe tbody tr th {\n",
       "        vertical-align: top;\n",
       "    }\n",
       "\n",
       "    .dataframe thead th {\n",
       "        text-align: right;\n",
       "    }\n",
       "</style>\n",
       "<table border=\"1\" class=\"dataframe\">\n",
       "  <thead>\n",
       "    <tr style=\"text-align: right;\">\n",
       "      <th></th>\n",
       "      <th>grade</th>\n",
       "      <th>good_bad</th>\n",
       "      <th>grade</th>\n",
       "      <th>good_bad</th>\n",
       "    </tr>\n",
       "  </thead>\n",
       "  <tbody>\n",
       "    <tr>\n",
       "      <th>0</th>\n",
       "      <td>A</td>\n",
       "      <td>59759</td>\n",
       "      <td>A</td>\n",
       "      <td>0.961044</td>\n",
       "    </tr>\n",
       "    <tr>\n",
       "      <th>1</th>\n",
       "      <td>B</td>\n",
       "      <td>109730</td>\n",
       "      <td>B</td>\n",
       "      <td>0.921015</td>\n",
       "    </tr>\n",
       "    <tr>\n",
       "      <th>2</th>\n",
       "      <td>C</td>\n",
       "      <td>100245</td>\n",
       "      <td>C</td>\n",
       "      <td>0.885770</td>\n",
       "    </tr>\n",
       "    <tr>\n",
       "      <th>3</th>\n",
       "      <td>D</td>\n",
       "      <td>61498</td>\n",
       "      <td>D</td>\n",
       "      <td>0.846304</td>\n",
       "    </tr>\n",
       "    <tr>\n",
       "      <th>4</th>\n",
       "      <td>E</td>\n",
       "      <td>28612</td>\n",
       "      <td>E</td>\n",
       "      <td>0.805257</td>\n",
       "    </tr>\n",
       "    <tr>\n",
       "      <th>5</th>\n",
       "      <td>F</td>\n",
       "      <td>10530</td>\n",
       "      <td>F</td>\n",
       "      <td>0.754416</td>\n",
       "    </tr>\n",
       "    <tr>\n",
       "      <th>6</th>\n",
       "      <td>G</td>\n",
       "      <td>2654</td>\n",
       "      <td>G</td>\n",
       "      <td>0.727958</td>\n",
       "    </tr>\n",
       "  </tbody>\n",
       "</table>\n",
       "</div>"
      ],
      "text/plain": [
       "  grade  good_bad grade  good_bad\n",
       "0     A     59759     A  0.961044\n",
       "1     B    109730     B  0.921015\n",
       "2     C    100245     C  0.885770\n",
       "3     D     61498     D  0.846304\n",
       "4     E     28612     E  0.805257\n",
       "5     F     10530     F  0.754416\n",
       "6     G      2654     G  0.727958"
      ]
     },
     "execution_count": 89,
     "metadata": {},
     "output_type": "execute_result"
    }
   ],
   "source": [
    "df1"
   ]
  },
  {
   "cell_type": "code",
   "execution_count": 90,
   "id": "0368d7d6",
   "metadata": {},
   "outputs": [],
   "source": [
    "df1=df1.iloc[:, [0, 1, 3]]"
   ]
  },
  {
   "cell_type": "code",
   "execution_count": 91,
   "id": "98e4a705",
   "metadata": {},
   "outputs": [
    {
     "data": {
      "text/html": [
       "<div>\n",
       "<style scoped>\n",
       "    .dataframe tbody tr th:only-of-type {\n",
       "        vertical-align: middle;\n",
       "    }\n",
       "\n",
       "    .dataframe tbody tr th {\n",
       "        vertical-align: top;\n",
       "    }\n",
       "\n",
       "    .dataframe thead th {\n",
       "        text-align: right;\n",
       "    }\n",
       "</style>\n",
       "<table border=\"1\" class=\"dataframe\">\n",
       "  <thead>\n",
       "    <tr style=\"text-align: right;\">\n",
       "      <th></th>\n",
       "      <th>grade</th>\n",
       "      <th>good_bad</th>\n",
       "      <th>good_bad</th>\n",
       "    </tr>\n",
       "  </thead>\n",
       "  <tbody>\n",
       "    <tr>\n",
       "      <th>0</th>\n",
       "      <td>A</td>\n",
       "      <td>59759</td>\n",
       "      <td>0.961044</td>\n",
       "    </tr>\n",
       "    <tr>\n",
       "      <th>1</th>\n",
       "      <td>B</td>\n",
       "      <td>109730</td>\n",
       "      <td>0.921015</td>\n",
       "    </tr>\n",
       "    <tr>\n",
       "      <th>2</th>\n",
       "      <td>C</td>\n",
       "      <td>100245</td>\n",
       "      <td>0.885770</td>\n",
       "    </tr>\n",
       "    <tr>\n",
       "      <th>3</th>\n",
       "      <td>D</td>\n",
       "      <td>61498</td>\n",
       "      <td>0.846304</td>\n",
       "    </tr>\n",
       "    <tr>\n",
       "      <th>4</th>\n",
       "      <td>E</td>\n",
       "      <td>28612</td>\n",
       "      <td>0.805257</td>\n",
       "    </tr>\n",
       "    <tr>\n",
       "      <th>5</th>\n",
       "      <td>F</td>\n",
       "      <td>10530</td>\n",
       "      <td>0.754416</td>\n",
       "    </tr>\n",
       "    <tr>\n",
       "      <th>6</th>\n",
       "      <td>G</td>\n",
       "      <td>2654</td>\n",
       "      <td>0.727958</td>\n",
       "    </tr>\n",
       "  </tbody>\n",
       "</table>\n",
       "</div>"
      ],
      "text/plain": [
       "  grade  good_bad  good_bad\n",
       "0     A     59759  0.961044\n",
       "1     B    109730  0.921015\n",
       "2     C    100245  0.885770\n",
       "3     D     61498  0.846304\n",
       "4     E     28612  0.805257\n",
       "5     F     10530  0.754416\n",
       "6     G      2654  0.727958"
      ]
     },
     "execution_count": 91,
     "metadata": {},
     "output_type": "execute_result"
    }
   ],
   "source": [
    "df1"
   ]
  },
  {
   "cell_type": "code",
   "execution_count": 82,
   "id": "23f441a5",
   "metadata": {},
   "outputs": [],
   "source": []
  },
  {
   "cell_type": "code",
   "execution_count": 92,
   "id": "d1efa9c6",
   "metadata": {},
   "outputs": [],
   "source": [
    "#renaming the columns to show number of observation and proportion of good \n",
    "df1.columns = [df1.columns.values[0], 'n_obs', 'prop_good']"
   ]
  },
  {
   "cell_type": "code",
   "execution_count": 93,
   "id": "cb0b303e",
   "metadata": {},
   "outputs": [
    {
     "data": {
      "text/html": [
       "<div>\n",
       "<style scoped>\n",
       "    .dataframe tbody tr th:only-of-type {\n",
       "        vertical-align: middle;\n",
       "    }\n",
       "\n",
       "    .dataframe tbody tr th {\n",
       "        vertical-align: top;\n",
       "    }\n",
       "\n",
       "    .dataframe thead th {\n",
       "        text-align: right;\n",
       "    }\n",
       "</style>\n",
       "<table border=\"1\" class=\"dataframe\">\n",
       "  <thead>\n",
       "    <tr style=\"text-align: right;\">\n",
       "      <th></th>\n",
       "      <th>grade</th>\n",
       "      <th>n_obs</th>\n",
       "      <th>prop_good</th>\n",
       "    </tr>\n",
       "  </thead>\n",
       "  <tbody>\n",
       "    <tr>\n",
       "      <th>0</th>\n",
       "      <td>A</td>\n",
       "      <td>59759</td>\n",
       "      <td>0.961044</td>\n",
       "    </tr>\n",
       "    <tr>\n",
       "      <th>1</th>\n",
       "      <td>B</td>\n",
       "      <td>109730</td>\n",
       "      <td>0.921015</td>\n",
       "    </tr>\n",
       "    <tr>\n",
       "      <th>2</th>\n",
       "      <td>C</td>\n",
       "      <td>100245</td>\n",
       "      <td>0.885770</td>\n",
       "    </tr>\n",
       "    <tr>\n",
       "      <th>3</th>\n",
       "      <td>D</td>\n",
       "      <td>61498</td>\n",
       "      <td>0.846304</td>\n",
       "    </tr>\n",
       "    <tr>\n",
       "      <th>4</th>\n",
       "      <td>E</td>\n",
       "      <td>28612</td>\n",
       "      <td>0.805257</td>\n",
       "    </tr>\n",
       "    <tr>\n",
       "      <th>5</th>\n",
       "      <td>F</td>\n",
       "      <td>10530</td>\n",
       "      <td>0.754416</td>\n",
       "    </tr>\n",
       "    <tr>\n",
       "      <th>6</th>\n",
       "      <td>G</td>\n",
       "      <td>2654</td>\n",
       "      <td>0.727958</td>\n",
       "    </tr>\n",
       "  </tbody>\n",
       "</table>\n",
       "</div>"
      ],
      "text/plain": [
       "  grade   n_obs  prop_good\n",
       "0     A   59759   0.961044\n",
       "1     B  109730   0.921015\n",
       "2     C  100245   0.885770\n",
       "3     D   61498   0.846304\n",
       "4     E   28612   0.805257\n",
       "5     F   10530   0.754416\n",
       "6     G    2654   0.727958"
      ]
     },
     "execution_count": 93,
     "metadata": {},
     "output_type": "execute_result"
    }
   ],
   "source": [
    "df1"
   ]
  },
  {
   "cell_type": "code",
   "execution_count": 94,
   "id": "37babe97",
   "metadata": {},
   "outputs": [],
   "source": [
    "#proportion of each category from the total\n",
    "df1['prop_n_obs'] = (df1['n_obs']) / (df1['n_obs'].sum())"
   ]
  },
  {
   "cell_type": "code",
   "execution_count": 95,
   "id": "a3fce1c8",
   "metadata": {},
   "outputs": [
    {
     "data": {
      "text/html": [
       "<div>\n",
       "<style scoped>\n",
       "    .dataframe tbody tr th:only-of-type {\n",
       "        vertical-align: middle;\n",
       "    }\n",
       "\n",
       "    .dataframe tbody tr th {\n",
       "        vertical-align: top;\n",
       "    }\n",
       "\n",
       "    .dataframe thead th {\n",
       "        text-align: right;\n",
       "    }\n",
       "</style>\n",
       "<table border=\"1\" class=\"dataframe\">\n",
       "  <thead>\n",
       "    <tr style=\"text-align: right;\">\n",
       "      <th></th>\n",
       "      <th>grade</th>\n",
       "      <th>n_obs</th>\n",
       "      <th>prop_good</th>\n",
       "      <th>prop_n_obs</th>\n",
       "    </tr>\n",
       "  </thead>\n",
       "  <tbody>\n",
       "    <tr>\n",
       "      <th>0</th>\n",
       "      <td>A</td>\n",
       "      <td>59759</td>\n",
       "      <td>0.961044</td>\n",
       "      <td>0.160200</td>\n",
       "    </tr>\n",
       "    <tr>\n",
       "      <th>1</th>\n",
       "      <td>B</td>\n",
       "      <td>109730</td>\n",
       "      <td>0.921015</td>\n",
       "      <td>0.294160</td>\n",
       "    </tr>\n",
       "    <tr>\n",
       "      <th>2</th>\n",
       "      <td>C</td>\n",
       "      <td>100245</td>\n",
       "      <td>0.885770</td>\n",
       "      <td>0.268733</td>\n",
       "    </tr>\n",
       "    <tr>\n",
       "      <th>3</th>\n",
       "      <td>D</td>\n",
       "      <td>61498</td>\n",
       "      <td>0.846304</td>\n",
       "      <td>0.164862</td>\n",
       "    </tr>\n",
       "    <tr>\n",
       "      <th>4</th>\n",
       "      <td>E</td>\n",
       "      <td>28612</td>\n",
       "      <td>0.805257</td>\n",
       "      <td>0.076702</td>\n",
       "    </tr>\n",
       "    <tr>\n",
       "      <th>5</th>\n",
       "      <td>F</td>\n",
       "      <td>10530</td>\n",
       "      <td>0.754416</td>\n",
       "      <td>0.028228</td>\n",
       "    </tr>\n",
       "    <tr>\n",
       "      <th>6</th>\n",
       "      <td>G</td>\n",
       "      <td>2654</td>\n",
       "      <td>0.727958</td>\n",
       "      <td>0.007115</td>\n",
       "    </tr>\n",
       "  </tbody>\n",
       "</table>\n",
       "</div>"
      ],
      "text/plain": [
       "  grade   n_obs  prop_good  prop_n_obs\n",
       "0     A   59759   0.961044    0.160200\n",
       "1     B  109730   0.921015    0.294160\n",
       "2     C  100245   0.885770    0.268733\n",
       "3     D   61498   0.846304    0.164862\n",
       "4     E   28612   0.805257    0.076702\n",
       "5     F   10530   0.754416    0.028228\n",
       "6     G    2654   0.727958    0.007115"
      ]
     },
     "execution_count": 95,
     "metadata": {},
     "output_type": "execute_result"
    }
   ],
   "source": [
    "df1"
   ]
  },
  {
   "cell_type": "code",
   "execution_count": 96,
   "id": "8c1331c4",
   "metadata": {},
   "outputs": [
    {
     "data": {
      "text/html": [
       "<div>\n",
       "<style scoped>\n",
       "    .dataframe tbody tr th:only-of-type {\n",
       "        vertical-align: middle;\n",
       "    }\n",
       "\n",
       "    .dataframe tbody tr th {\n",
       "        vertical-align: top;\n",
       "    }\n",
       "\n",
       "    .dataframe thead th {\n",
       "        text-align: right;\n",
       "    }\n",
       "</style>\n",
       "<table border=\"1\" class=\"dataframe\">\n",
       "  <thead>\n",
       "    <tr style=\"text-align: right;\">\n",
       "      <th></th>\n",
       "      <th>grade</th>\n",
       "      <th>n_obs</th>\n",
       "      <th>prop_good</th>\n",
       "      <th>prop_n_obs</th>\n",
       "      <th>n_good</th>\n",
       "      <th>n_bad</th>\n",
       "    </tr>\n",
       "  </thead>\n",
       "  <tbody>\n",
       "    <tr>\n",
       "      <th>0</th>\n",
       "      <td>A</td>\n",
       "      <td>59759</td>\n",
       "      <td>0.961044</td>\n",
       "      <td>0.160200</td>\n",
       "      <td>57431.0</td>\n",
       "      <td>2328.0</td>\n",
       "    </tr>\n",
       "    <tr>\n",
       "      <th>1</th>\n",
       "      <td>B</td>\n",
       "      <td>109730</td>\n",
       "      <td>0.921015</td>\n",
       "      <td>0.294160</td>\n",
       "      <td>101063.0</td>\n",
       "      <td>8667.0</td>\n",
       "    </tr>\n",
       "    <tr>\n",
       "      <th>2</th>\n",
       "      <td>C</td>\n",
       "      <td>100245</td>\n",
       "      <td>0.885770</td>\n",
       "      <td>0.268733</td>\n",
       "      <td>88794.0</td>\n",
       "      <td>11451.0</td>\n",
       "    </tr>\n",
       "    <tr>\n",
       "      <th>3</th>\n",
       "      <td>D</td>\n",
       "      <td>61498</td>\n",
       "      <td>0.846304</td>\n",
       "      <td>0.164862</td>\n",
       "      <td>52046.0</td>\n",
       "      <td>9452.0</td>\n",
       "    </tr>\n",
       "    <tr>\n",
       "      <th>4</th>\n",
       "      <td>E</td>\n",
       "      <td>28612</td>\n",
       "      <td>0.805257</td>\n",
       "      <td>0.076702</td>\n",
       "      <td>23040.0</td>\n",
       "      <td>5572.0</td>\n",
       "    </tr>\n",
       "    <tr>\n",
       "      <th>5</th>\n",
       "      <td>F</td>\n",
       "      <td>10530</td>\n",
       "      <td>0.754416</td>\n",
       "      <td>0.028228</td>\n",
       "      <td>7944.0</td>\n",
       "      <td>2586.0</td>\n",
       "    </tr>\n",
       "    <tr>\n",
       "      <th>6</th>\n",
       "      <td>G</td>\n",
       "      <td>2654</td>\n",
       "      <td>0.727958</td>\n",
       "      <td>0.007115</td>\n",
       "      <td>1932.0</td>\n",
       "      <td>722.0</td>\n",
       "    </tr>\n",
       "  </tbody>\n",
       "</table>\n",
       "</div>"
      ],
      "text/plain": [
       "  grade   n_obs  prop_good  prop_n_obs    n_good    n_bad\n",
       "0     A   59759   0.961044    0.160200   57431.0   2328.0\n",
       "1     B  109730   0.921015    0.294160  101063.0   8667.0\n",
       "2     C  100245   0.885770    0.268733   88794.0  11451.0\n",
       "3     D   61498   0.846304    0.164862   52046.0   9452.0\n",
       "4     E   28612   0.805257    0.076702   23040.0   5572.0\n",
       "5     F   10530   0.754416    0.028228    7944.0   2586.0\n",
       "6     G    2654   0.727958    0.007115    1932.0    722.0"
      ]
     },
     "execution_count": 96,
     "metadata": {},
     "output_type": "execute_result"
    }
   ],
   "source": [
    "df1['n_good'] = df1['prop_good'] * df1['n_obs']\n",
    "# We multiply the values of one column by he values of another column and save the result in a new variable.\n",
    "df1['n_bad'] = (1 - df1['prop_good']) * df1['n_obs']\n",
    "df1\n",
    "#no of bad (0) would be 1-good"
   ]
  },
  {
   "cell_type": "code",
   "execution_count": 97,
   "id": "a1bb1a35",
   "metadata": {},
   "outputs": [
    {
     "data": {
      "text/html": [
       "<div>\n",
       "<style scoped>\n",
       "    .dataframe tbody tr th:only-of-type {\n",
       "        vertical-align: middle;\n",
       "    }\n",
       "\n",
       "    .dataframe tbody tr th {\n",
       "        vertical-align: top;\n",
       "    }\n",
       "\n",
       "    .dataframe thead th {\n",
       "        text-align: right;\n",
       "    }\n",
       "</style>\n",
       "<table border=\"1\" class=\"dataframe\">\n",
       "  <thead>\n",
       "    <tr style=\"text-align: right;\">\n",
       "      <th></th>\n",
       "      <th>grade</th>\n",
       "      <th>n_obs</th>\n",
       "      <th>prop_good</th>\n",
       "      <th>prop_n_obs</th>\n",
       "      <th>n_good</th>\n",
       "      <th>n_bad</th>\n",
       "      <th>prop_n_good</th>\n",
       "      <th>prop_n_bad</th>\n",
       "    </tr>\n",
       "  </thead>\n",
       "  <tbody>\n",
       "    <tr>\n",
       "      <th>0</th>\n",
       "      <td>A</td>\n",
       "      <td>59759</td>\n",
       "      <td>0.961044</td>\n",
       "      <td>0.160200</td>\n",
       "      <td>57431.0</td>\n",
       "      <td>2328.0</td>\n",
       "      <td>0.172855</td>\n",
       "      <td>0.057090</td>\n",
       "    </tr>\n",
       "    <tr>\n",
       "      <th>1</th>\n",
       "      <td>B</td>\n",
       "      <td>109730</td>\n",
       "      <td>0.921015</td>\n",
       "      <td>0.294160</td>\n",
       "      <td>101063.0</td>\n",
       "      <td>8667.0</td>\n",
       "      <td>0.304178</td>\n",
       "      <td>0.212541</td>\n",
       "    </tr>\n",
       "    <tr>\n",
       "      <th>2</th>\n",
       "      <td>C</td>\n",
       "      <td>100245</td>\n",
       "      <td>0.885770</td>\n",
       "      <td>0.268733</td>\n",
       "      <td>88794.0</td>\n",
       "      <td>11451.0</td>\n",
       "      <td>0.267251</td>\n",
       "      <td>0.280813</td>\n",
       "    </tr>\n",
       "    <tr>\n",
       "      <th>3</th>\n",
       "      <td>D</td>\n",
       "      <td>61498</td>\n",
       "      <td>0.846304</td>\n",
       "      <td>0.164862</td>\n",
       "      <td>52046.0</td>\n",
       "      <td>9452.0</td>\n",
       "      <td>0.156647</td>\n",
       "      <td>0.231792</td>\n",
       "    </tr>\n",
       "    <tr>\n",
       "      <th>4</th>\n",
       "      <td>E</td>\n",
       "      <td>28612</td>\n",
       "      <td>0.805257</td>\n",
       "      <td>0.076702</td>\n",
       "      <td>23040.0</td>\n",
       "      <td>5572.0</td>\n",
       "      <td>0.069345</td>\n",
       "      <td>0.136642</td>\n",
       "    </tr>\n",
       "    <tr>\n",
       "      <th>5</th>\n",
       "      <td>F</td>\n",
       "      <td>10530</td>\n",
       "      <td>0.754416</td>\n",
       "      <td>0.028228</td>\n",
       "      <td>7944.0</td>\n",
       "      <td>2586.0</td>\n",
       "      <td>0.023910</td>\n",
       "      <td>0.063417</td>\n",
       "    </tr>\n",
       "    <tr>\n",
       "      <th>6</th>\n",
       "      <td>G</td>\n",
       "      <td>2654</td>\n",
       "      <td>0.727958</td>\n",
       "      <td>0.007115</td>\n",
       "      <td>1932.0</td>\n",
       "      <td>722.0</td>\n",
       "      <td>0.005815</td>\n",
       "      <td>0.017706</td>\n",
       "    </tr>\n",
       "  </tbody>\n",
       "</table>\n",
       "</div>"
      ],
      "text/plain": [
       "  grade   n_obs  prop_good  prop_n_obs    n_good    n_bad  prop_n_good  \\\n",
       "0     A   59759   0.961044    0.160200   57431.0   2328.0     0.172855   \n",
       "1     B  109730   0.921015    0.294160  101063.0   8667.0     0.304178   \n",
       "2     C  100245   0.885770    0.268733   88794.0  11451.0     0.267251   \n",
       "3     D   61498   0.846304    0.164862   52046.0   9452.0     0.156647   \n",
       "4     E   28612   0.805257    0.076702   23040.0   5572.0     0.069345   \n",
       "5     F   10530   0.754416    0.028228    7944.0   2586.0     0.023910   \n",
       "6     G    2654   0.727958    0.007115    1932.0    722.0     0.005815   \n",
       "\n",
       "   prop_n_bad  \n",
       "0    0.057090  \n",
       "1    0.212541  \n",
       "2    0.280813  \n",
       "3    0.231792  \n",
       "4    0.136642  \n",
       "5    0.063417  \n",
       "6    0.017706  "
      ]
     },
     "execution_count": 97,
     "metadata": {},
     "output_type": "execute_result"
    }
   ],
   "source": [
    "#proportion of good and bad borrowers as part of the total\n",
    "df1['prop_n_good'] = df1['n_good'] / df1['n_good'].sum()\n",
    "df1['prop_n_bad'] = df1['n_bad'] / df1['n_bad'].sum()\n",
    "df1"
   ]
  },
  {
   "cell_type": "code",
   "execution_count": 98,
   "id": "8f69a400",
   "metadata": {},
   "outputs": [
    {
     "data": {
      "text/html": [
       "<div>\n",
       "<style scoped>\n",
       "    .dataframe tbody tr th:only-of-type {\n",
       "        vertical-align: middle;\n",
       "    }\n",
       "\n",
       "    .dataframe tbody tr th {\n",
       "        vertical-align: top;\n",
       "    }\n",
       "\n",
       "    .dataframe thead th {\n",
       "        text-align: right;\n",
       "    }\n",
       "</style>\n",
       "<table border=\"1\" class=\"dataframe\">\n",
       "  <thead>\n",
       "    <tr style=\"text-align: right;\">\n",
       "      <th></th>\n",
       "      <th>grade</th>\n",
       "      <th>n_obs</th>\n",
       "      <th>prop_good</th>\n",
       "      <th>prop_n_obs</th>\n",
       "      <th>n_good</th>\n",
       "      <th>n_bad</th>\n",
       "      <th>prop_n_good</th>\n",
       "      <th>prop_n_bad</th>\n",
       "      <th>WoE</th>\n",
       "    </tr>\n",
       "  </thead>\n",
       "  <tbody>\n",
       "    <tr>\n",
       "      <th>0</th>\n",
       "      <td>A</td>\n",
       "      <td>59759</td>\n",
       "      <td>0.961044</td>\n",
       "      <td>0.160200</td>\n",
       "      <td>57431.0</td>\n",
       "      <td>2328.0</td>\n",
       "      <td>0.172855</td>\n",
       "      <td>0.057090</td>\n",
       "      <td>1.107830</td>\n",
       "    </tr>\n",
       "    <tr>\n",
       "      <th>1</th>\n",
       "      <td>B</td>\n",
       "      <td>109730</td>\n",
       "      <td>0.921015</td>\n",
       "      <td>0.294160</td>\n",
       "      <td>101063.0</td>\n",
       "      <td>8667.0</td>\n",
       "      <td>0.304178</td>\n",
       "      <td>0.212541</td>\n",
       "      <td>0.358476</td>\n",
       "    </tr>\n",
       "    <tr>\n",
       "      <th>2</th>\n",
       "      <td>C</td>\n",
       "      <td>100245</td>\n",
       "      <td>0.885770</td>\n",
       "      <td>0.268733</td>\n",
       "      <td>88794.0</td>\n",
       "      <td>11451.0</td>\n",
       "      <td>0.267251</td>\n",
       "      <td>0.280813</td>\n",
       "      <td>-0.049503</td>\n",
       "    </tr>\n",
       "    <tr>\n",
       "      <th>3</th>\n",
       "      <td>D</td>\n",
       "      <td>61498</td>\n",
       "      <td>0.846304</td>\n",
       "      <td>0.164862</td>\n",
       "      <td>52046.0</td>\n",
       "      <td>9452.0</td>\n",
       "      <td>0.156647</td>\n",
       "      <td>0.231792</td>\n",
       "      <td>-0.391843</td>\n",
       "    </tr>\n",
       "    <tr>\n",
       "      <th>4</th>\n",
       "      <td>E</td>\n",
       "      <td>28612</td>\n",
       "      <td>0.805257</td>\n",
       "      <td>0.076702</td>\n",
       "      <td>23040.0</td>\n",
       "      <td>5572.0</td>\n",
       "      <td>0.069345</td>\n",
       "      <td>0.136642</td>\n",
       "      <td>-0.678267</td>\n",
       "    </tr>\n",
       "    <tr>\n",
       "      <th>5</th>\n",
       "      <td>F</td>\n",
       "      <td>10530</td>\n",
       "      <td>0.754416</td>\n",
       "      <td>0.028228</td>\n",
       "      <td>7944.0</td>\n",
       "      <td>2586.0</td>\n",
       "      <td>0.023910</td>\n",
       "      <td>0.063417</td>\n",
       "      <td>-0.975440</td>\n",
       "    </tr>\n",
       "    <tr>\n",
       "      <th>6</th>\n",
       "      <td>G</td>\n",
       "      <td>2654</td>\n",
       "      <td>0.727958</td>\n",
       "      <td>0.007115</td>\n",
       "      <td>1932.0</td>\n",
       "      <td>722.0</td>\n",
       "      <td>0.005815</td>\n",
       "      <td>0.017706</td>\n",
       "      <td>-1.113459</td>\n",
       "    </tr>\n",
       "  </tbody>\n",
       "</table>\n",
       "</div>"
      ],
      "text/plain": [
       "  grade   n_obs  prop_good  prop_n_obs    n_good    n_bad  prop_n_good  \\\n",
       "0     A   59759   0.961044    0.160200   57431.0   2328.0     0.172855   \n",
       "1     B  109730   0.921015    0.294160  101063.0   8667.0     0.304178   \n",
       "2     C  100245   0.885770    0.268733   88794.0  11451.0     0.267251   \n",
       "3     D   61498   0.846304    0.164862   52046.0   9452.0     0.156647   \n",
       "4     E   28612   0.805257    0.076702   23040.0   5572.0     0.069345   \n",
       "5     F   10530   0.754416    0.028228    7944.0   2586.0     0.023910   \n",
       "6     G    2654   0.727958    0.007115    1932.0    722.0     0.005815   \n",
       "\n",
       "   prop_n_bad       WoE  \n",
       "0    0.057090  1.107830  \n",
       "1    0.212541  0.358476  \n",
       "2    0.280813 -0.049503  \n",
       "3    0.231792 -0.391843  \n",
       "4    0.136642 -0.678267  \n",
       "5    0.063417 -0.975440  \n",
       "6    0.017706 -1.113459  "
      ]
     },
     "execution_count": 98,
     "metadata": {},
     "output_type": "execute_result"
    }
   ],
   "source": [
    "#Weight of Evidence \n",
    "df1['WoE']=np.log(df1['prop_n_good'] / df1['prop_n_bad'])\n",
    "df1\n",
    "#calculated as the log ratiof of %good over %bad"
   ]
  },
  {
   "cell_type": "code",
   "execution_count": 99,
   "id": "8995dd8e",
   "metadata": {},
   "outputs": [],
   "source": [
    "df1 = df1.sort_values(['WoE'])"
   ]
  },
  {
   "cell_type": "code",
   "execution_count": 100,
   "id": "3a02e47a",
   "metadata": {},
   "outputs": [],
   "source": [
    "# We reset the index of a dataframe and overwrite it.\n",
    "df1 = df1.reset_index(drop = True)"
   ]
  },
  {
   "cell_type": "code",
   "execution_count": 101,
   "id": "0a9184e3",
   "metadata": {},
   "outputs": [],
   "source": [
    "df1['diff_prop_good'] = df1['prop_good'].diff().abs()"
   ]
  },
  {
   "cell_type": "code",
   "execution_count": 102,
   "id": "b871ca2b",
   "metadata": {},
   "outputs": [],
   "source": [
    "df1['diff_WoE'] = df1['WoE'].diff().abs()"
   ]
  },
  {
   "cell_type": "code",
   "execution_count": 103,
   "id": "d9607b69",
   "metadata": {},
   "outputs": [],
   "source": [
    "df1['IV'] = (df1['prop_n_good'] - df1['prop_n_bad']) * df1['WoE']"
   ]
  },
  {
   "cell_type": "code",
   "execution_count": 104,
   "id": "6520f0ac",
   "metadata": {},
   "outputs": [],
   "source": [
    "df1['IV'] = df1['IV'].sum()"
   ]
  },
  {
   "cell_type": "code",
   "execution_count": 125,
   "id": "2b3bb581",
   "metadata": {},
   "outputs": [
    {
     "data": {
      "text/html": [
       "<div>\n",
       "<style scoped>\n",
       "    .dataframe tbody tr th:only-of-type {\n",
       "        vertical-align: middle;\n",
       "    }\n",
       "\n",
       "    .dataframe tbody tr th {\n",
       "        vertical-align: top;\n",
       "    }\n",
       "\n",
       "    .dataframe thead th {\n",
       "        text-align: right;\n",
       "    }\n",
       "</style>\n",
       "<table border=\"1\" class=\"dataframe\">\n",
       "  <thead>\n",
       "    <tr style=\"text-align: right;\">\n",
       "      <th></th>\n",
       "      <th>grade</th>\n",
       "      <th>n_obs</th>\n",
       "      <th>prop_good</th>\n",
       "      <th>prop_n_obs</th>\n",
       "      <th>n_good</th>\n",
       "      <th>n_bad</th>\n",
       "      <th>prop_n_good</th>\n",
       "      <th>prop_n_bad</th>\n",
       "      <th>WoE</th>\n",
       "      <th>diff_prop_good</th>\n",
       "      <th>diff_WoE</th>\n",
       "      <th>IV</th>\n",
       "    </tr>\n",
       "  </thead>\n",
       "  <tbody>\n",
       "    <tr>\n",
       "      <th>0</th>\n",
       "      <td>G</td>\n",
       "      <td>2654</td>\n",
       "      <td>0.727958</td>\n",
       "      <td>0.007115</td>\n",
       "      <td>1932.0</td>\n",
       "      <td>722.0</td>\n",
       "      <td>0.005815</td>\n",
       "      <td>0.017706</td>\n",
       "      <td>-1.113459</td>\n",
       "      <td>NaN</td>\n",
       "      <td>NaN</td>\n",
       "      <td>0.288636</td>\n",
       "    </tr>\n",
       "    <tr>\n",
       "      <th>1</th>\n",
       "      <td>F</td>\n",
       "      <td>10530</td>\n",
       "      <td>0.754416</td>\n",
       "      <td>0.028228</td>\n",
       "      <td>7944.0</td>\n",
       "      <td>2586.0</td>\n",
       "      <td>0.023910</td>\n",
       "      <td>0.063417</td>\n",
       "      <td>-0.975440</td>\n",
       "      <td>0.026458</td>\n",
       "      <td>0.138019</td>\n",
       "      <td>0.288636</td>\n",
       "    </tr>\n",
       "    <tr>\n",
       "      <th>2</th>\n",
       "      <td>E</td>\n",
       "      <td>28612</td>\n",
       "      <td>0.805257</td>\n",
       "      <td>0.076702</td>\n",
       "      <td>23040.0</td>\n",
       "      <td>5572.0</td>\n",
       "      <td>0.069345</td>\n",
       "      <td>0.136642</td>\n",
       "      <td>-0.678267</td>\n",
       "      <td>0.050841</td>\n",
       "      <td>0.297173</td>\n",
       "      <td>0.288636</td>\n",
       "    </tr>\n",
       "    <tr>\n",
       "      <th>3</th>\n",
       "      <td>D</td>\n",
       "      <td>61498</td>\n",
       "      <td>0.846304</td>\n",
       "      <td>0.164862</td>\n",
       "      <td>52046.0</td>\n",
       "      <td>9452.0</td>\n",
       "      <td>0.156647</td>\n",
       "      <td>0.231792</td>\n",
       "      <td>-0.391843</td>\n",
       "      <td>0.041047</td>\n",
       "      <td>0.286424</td>\n",
       "      <td>0.288636</td>\n",
       "    </tr>\n",
       "    <tr>\n",
       "      <th>4</th>\n",
       "      <td>C</td>\n",
       "      <td>100245</td>\n",
       "      <td>0.885770</td>\n",
       "      <td>0.268733</td>\n",
       "      <td>88794.0</td>\n",
       "      <td>11451.0</td>\n",
       "      <td>0.267251</td>\n",
       "      <td>0.280813</td>\n",
       "      <td>-0.049503</td>\n",
       "      <td>0.039466</td>\n",
       "      <td>0.342340</td>\n",
       "      <td>0.288636</td>\n",
       "    </tr>\n",
       "    <tr>\n",
       "      <th>5</th>\n",
       "      <td>B</td>\n",
       "      <td>109730</td>\n",
       "      <td>0.921015</td>\n",
       "      <td>0.294160</td>\n",
       "      <td>101063.0</td>\n",
       "      <td>8667.0</td>\n",
       "      <td>0.304178</td>\n",
       "      <td>0.212541</td>\n",
       "      <td>0.358476</td>\n",
       "      <td>0.035245</td>\n",
       "      <td>0.407979</td>\n",
       "      <td>0.288636</td>\n",
       "    </tr>\n",
       "    <tr>\n",
       "      <th>6</th>\n",
       "      <td>A</td>\n",
       "      <td>59759</td>\n",
       "      <td>0.961044</td>\n",
       "      <td>0.160200</td>\n",
       "      <td>57431.0</td>\n",
       "      <td>2328.0</td>\n",
       "      <td>0.172855</td>\n",
       "      <td>0.057090</td>\n",
       "      <td>1.107830</td>\n",
       "      <td>0.040028</td>\n",
       "      <td>0.749353</td>\n",
       "      <td>0.288636</td>\n",
       "    </tr>\n",
       "  </tbody>\n",
       "</table>\n",
       "</div>"
      ],
      "text/plain": [
       "  grade   n_obs  prop_good  prop_n_obs    n_good    n_bad  prop_n_good  \\\n",
       "0     G    2654   0.727958    0.007115    1932.0    722.0     0.005815   \n",
       "1     F   10530   0.754416    0.028228    7944.0   2586.0     0.023910   \n",
       "2     E   28612   0.805257    0.076702   23040.0   5572.0     0.069345   \n",
       "3     D   61498   0.846304    0.164862   52046.0   9452.0     0.156647   \n",
       "4     C  100245   0.885770    0.268733   88794.0  11451.0     0.267251   \n",
       "5     B  109730   0.921015    0.294160  101063.0   8667.0     0.304178   \n",
       "6     A   59759   0.961044    0.160200   57431.0   2328.0     0.172855   \n",
       "\n",
       "   prop_n_bad       WoE  diff_prop_good  diff_WoE        IV  \n",
       "0    0.017706 -1.113459             NaN       NaN  0.288636  \n",
       "1    0.063417 -0.975440        0.026458  0.138019  0.288636  \n",
       "2    0.136642 -0.678267        0.050841  0.297173  0.288636  \n",
       "3    0.231792 -0.391843        0.041047  0.286424  0.288636  \n",
       "4    0.280813 -0.049503        0.039466  0.342340  0.288636  \n",
       "5    0.212541  0.358476        0.035245  0.407979  0.288636  \n",
       "6    0.057090  1.107830        0.040028  0.749353  0.288636  "
      ]
     },
     "execution_count": 125,
     "metadata": {},
     "output_type": "execute_result"
    }
   ],
   "source": [
    "df1"
   ]
  },
  {
   "cell_type": "code",
   "execution_count": null,
   "id": "a54ffa51",
   "metadata": {},
   "outputs": [],
   "source": []
  }
 ],
 "metadata": {
  "kernelspec": {
   "display_name": "Python 3",
   "language": "python",
   "name": "python3"
  },
  "language_info": {
   "codemirror_mode": {
    "name": "ipython",
    "version": 3
   },
   "file_extension": ".py",
   "mimetype": "text/x-python",
   "name": "python",
   "nbconvert_exporter": "python",
   "pygments_lexer": "ipython3",
   "version": "3.8.3"
  }
 },
 "nbformat": 4,
 "nbformat_minor": 5
}
